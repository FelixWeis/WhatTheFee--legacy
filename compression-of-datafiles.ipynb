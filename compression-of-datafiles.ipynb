{
 "cells": [
  {
   "cell_type": "code",
   "execution_count": 550,
   "metadata": {},
   "outputs": [],
   "source": [
    "import pandas as pd\n",
    "import numpy as np\n",
    "import pyarrow.parquet as pq\n",
    "import pathlib \n",
    "import datetime\n",
    "import wtfutil\n",
    "import matplotlib.pyplot as plt\n",
    "import multiprocessing as mp"
   ]
  },
  {
   "cell_type": "code",
   "execution_count": 31,
   "metadata": {},
   "outputs": [
    {
     "data": {
      "text/plain": [
       "7233"
      ]
     },
     "execution_count": 31,
     "metadata": {},
     "output_type": "execute_result"
    }
   ],
   "source": [
    "p_in = pathlib.Path('./data/2018/04/26/')\n",
    "p_out = pathlib.Path('/tmp/out2.parq')\n",
    "\n",
    "last = next(reversed(sorted(p_in.glob('*_partial.parq'))))\n",
    "last.stat().st_size"
   ]
  },
  {
   "cell_type": "code",
   "execution_count": 32,
   "metadata": {},
   "outputs": [],
   "source": [
    "f = pq.ParquetFile(str(last))"
   ]
  },
  {
   "cell_type": "code",
   "execution_count": 33,
   "metadata": {},
   "outputs": [
    {
     "data": {
      "text/html": [
       "<div>\n",
       "<style scoped>\n",
       "    .dataframe tbody tr th:only-of-type {\n",
       "        vertical-align: middle;\n",
       "    }\n",
       "\n",
       "    .dataframe tbody tr th {\n",
       "        vertical-align: top;\n",
       "    }\n",
       "\n",
       "    .dataframe thead th {\n",
       "        text-align: right;\n",
       "    }\n",
       "</style>\n",
       "<table border=\"1\" class=\"dataframe\">\n",
       "  <thead>\n",
       "    <tr style=\"text-align: right;\">\n",
       "      <th></th>\n",
       "      <th>index</th>\n",
       "      <th>vsize</th>\n",
       "      <th>height</th>\n",
       "      <th>time</th>\n",
       "      <th>satoshi</th>\n",
       "      <th>is_woven</th>\n",
       "    </tr>\n",
       "  </thead>\n",
       "  <tbody>\n",
       "    <tr>\n",
       "      <th>0</th>\n",
       "      <td>0f0137109b0c24bb82ad5a464360a93d05bcd87aa649b7...</td>\n",
       "      <td>349</td>\n",
       "      <td>520066</td>\n",
       "      <td>1524785652</td>\n",
       "      <td>34138</td>\n",
       "      <td>False</td>\n",
       "    </tr>\n",
       "    <tr>\n",
       "      <th>1</th>\n",
       "      <td>134df8c2d0893c32b964849e53b7cde3a4c8cafdbc874a...</td>\n",
       "      <td>257</td>\n",
       "      <td>520065</td>\n",
       "      <td>1524785643</td>\n",
       "      <td>26349</td>\n",
       "      <td>False</td>\n",
       "    </tr>\n",
       "    <tr>\n",
       "      <th>2</th>\n",
       "      <td>2383e059b33d5568296de2fa0b80f95a839e25754c10e6...</td>\n",
       "      <td>256</td>\n",
       "      <td>520065</td>\n",
       "      <td>1524785641</td>\n",
       "      <td>1620</td>\n",
       "      <td>False</td>\n",
       "    </tr>\n",
       "    <tr>\n",
       "      <th>3</th>\n",
       "      <td>2812d447afcf1494a2e5a27b2a945bde5a6af68274f0c2...</td>\n",
       "      <td>226</td>\n",
       "      <td>520065</td>\n",
       "      <td>1524785641</td>\n",
       "      <td>2371</td>\n",
       "      <td>False</td>\n",
       "    </tr>\n",
       "    <tr>\n",
       "      <th>4</th>\n",
       "      <td>2a18c6f5cf5b1eeb6322a6942fe37d08832f20a715a22c...</td>\n",
       "      <td>168</td>\n",
       "      <td>520065</td>\n",
       "      <td>1524785646</td>\n",
       "      <td>11976</td>\n",
       "      <td>False</td>\n",
       "    </tr>\n",
       "  </tbody>\n",
       "</table>\n",
       "</div>"
      ],
      "text/plain": [
       "                                               index  vsize  height  \\\n",
       "0  0f0137109b0c24bb82ad5a464360a93d05bcd87aa649b7...    349  520066   \n",
       "1  134df8c2d0893c32b964849e53b7cde3a4c8cafdbc874a...    257  520065   \n",
       "2  2383e059b33d5568296de2fa0b80f95a839e25754c10e6...    256  520065   \n",
       "3  2812d447afcf1494a2e5a27b2a945bde5a6af68274f0c2...    226  520065   \n",
       "4  2a18c6f5cf5b1eeb6322a6942fe37d08832f20a715a22c...    168  520065   \n",
       "\n",
       "         time  satoshi  is_woven  \n",
       "0  1524785652    34138     False  \n",
       "1  1524785643    26349     False  \n",
       "2  1524785641     1620     False  \n",
       "3  1524785641     2371     False  \n",
       "4  1524785646    11976     False  "
      ]
     },
     "execution_count": 33,
     "metadata": {},
     "output_type": "execute_result"
    }
   ],
   "source": [
    "df_orig = f.read().to_pandas()\n",
    "df_orig.head()"
   ]
  },
  {
   "cell_type": "code",
   "execution_count": 34,
   "metadata": {},
   "outputs": [
    {
     "data": {
      "text/html": [
       "<div>\n",
       "<style scoped>\n",
       "    .dataframe tbody tr th:only-of-type {\n",
       "        vertical-align: middle;\n",
       "    }\n",
       "\n",
       "    .dataframe tbody tr th {\n",
       "        vertical-align: top;\n",
       "    }\n",
       "\n",
       "    .dataframe thead th {\n",
       "        text-align: right;\n",
       "    }\n",
       "</style>\n",
       "<table border=\"1\" class=\"dataframe\">\n",
       "  <thead>\n",
       "    <tr style=\"text-align: right;\">\n",
       "      <th></th>\n",
       "      <th>vsize</th>\n",
       "      <th>satoshi</th>\n",
       "      <th>height</th>\n",
       "      <th>time</th>\n",
       "      <th>is_woven</th>\n",
       "    </tr>\n",
       "  </thead>\n",
       "  <tbody>\n",
       "    <tr>\n",
       "      <th>0</th>\n",
       "      <td>142</td>\n",
       "      <td>14391</td>\n",
       "      <td>520065</td>\n",
       "      <td>1524785643</td>\n",
       "      <td>False</td>\n",
       "    </tr>\n",
       "    <tr>\n",
       "      <th>1</th>\n",
       "      <td>144</td>\n",
       "      <td>14594</td>\n",
       "      <td>520065</td>\n",
       "      <td>1524785643</td>\n",
       "      <td>False</td>\n",
       "    </tr>\n",
       "    <tr>\n",
       "      <th>2</th>\n",
       "      <td>144</td>\n",
       "      <td>14594</td>\n",
       "      <td>520065</td>\n",
       "      <td>1524785643</td>\n",
       "      <td>False</td>\n",
       "    </tr>\n",
       "    <tr>\n",
       "      <th>3</th>\n",
       "      <td>165</td>\n",
       "      <td>16722</td>\n",
       "      <td>520065</td>\n",
       "      <td>1524785647</td>\n",
       "      <td>False</td>\n",
       "    </tr>\n",
       "    <tr>\n",
       "      <th>4</th>\n",
       "      <td>167</td>\n",
       "      <td>16925</td>\n",
       "      <td>520065</td>\n",
       "      <td>1524785643</td>\n",
       "      <td>False</td>\n",
       "    </tr>\n",
       "  </tbody>\n",
       "</table>\n",
       "</div>"
      ],
      "text/plain": [
       "   vsize  satoshi  height        time  is_woven\n",
       "0    142    14391  520065  1524785643     False\n",
       "1    144    14594  520065  1524785643     False\n",
       "2    144    14594  520065  1524785643     False\n",
       "3    165    16722  520065  1524785647     False\n",
       "4    167    16925  520065  1524785643     False"
      ]
     },
     "execution_count": 34,
     "metadata": {},
     "output_type": "execute_result"
    }
   ],
   "source": [
    "df_out = df_orig[['vsize', 'satoshi', 'height', 'time', 'is_woven']]\n",
    "#df_out = df_orig.drop('index', 1)\n",
    "#[df_out.nunique(),df_out.count()]\n",
    "df_out = df_out.sort_values(['height', 'vsize', 'is_woven', 'time']).reset_index().drop('index', 1)\n",
    "df_out.head()\n"
   ]
  },
  {
   "cell_type": "code",
   "execution_count": 35,
   "metadata": {},
   "outputs": [
    {
     "data": {
      "text/plain": [
       "[0.007233, 0.002602, 54, 0.3597400801880271, 0.002602]"
      ]
     },
     "execution_count": 35,
     "metadata": {},
     "output_type": "execute_result"
    }
   ],
   "source": [
    "df_out.to_parquet(str(p_out), compression='brotli')\n",
    "# entries, compression ratio, filesize_MB\n",
    "[last.stat().st_size/1e6, p_out.stat().st_size/1e6, len(df_out), p_out.stat().st_size/last.stat().st_size, p_out.stat().st_size/1e6]"
   ]
  },
  {
   "cell_type": "code",
   "execution_count": null,
   "metadata": {},
   "outputs": [],
   "source": [
    "# attempt to reduce info per day\n",
    "last = next(reversed(sorted(p_in.glob('*_partial.parq'))))"
   ]
  },
  {
   "cell_type": "code",
   "execution_count": 36,
   "metadata": {},
   "outputs": [
    {
     "data": {
      "text/plain": [
       "<generator object Path.glob at 0x7fbaf1df8938>"
      ]
     },
     "execution_count": 36,
     "metadata": {},
     "output_type": "execute_result"
    }
   ],
   "source": [
    "buckets = [list() for x in range(144)]\n",
    "for p in p_in.glob('*_partial.parq'):\n",
    "    str(p)"
   ]
  },
  {
   "cell_type": "code",
   "execution_count": 44,
   "metadata": {},
   "outputs": [
    {
     "ename": "TypeError",
     "evalue": "utcfromtimestamp() takes no keyword arguments",
     "output_type": "error",
     "traceback": [
      "\u001b[0;31m---------------------------------------------------------------------------\u001b[0m",
      "\u001b[0;31mTypeError\u001b[0m                                 Traceback (most recent call last)",
      "\u001b[0;32m<ipython-input-44-c46c6800578c>\u001b[0m in \u001b[0;36m<module>\u001b[0;34m()\u001b[0m\n\u001b[0;32m----> 1\u001b[0;31m \u001b[0mpd\u001b[0m\u001b[0;34m.\u001b[0m\u001b[0mdatetime\u001b[0m\u001b[0;34m.\u001b[0m\u001b[0mutcfromtimestamp\u001b[0m\u001b[0;34m(\u001b[0m\u001b[0;36m1524815895\u001b[0m\u001b[0;34m,\u001b[0m \u001b[0mtzinfo\u001b[0m\u001b[0;34m=\u001b[0m\u001b[0mdatetime\u001b[0m\u001b[0;34m.\u001b[0m\u001b[0mtimezone\u001b[0m\u001b[0;34m.\u001b[0m\u001b[0mutc\u001b[0m\u001b[0;34m)\u001b[0m\u001b[0;34m\u001b[0m\u001b[0m\n\u001b[0m\u001b[1;32m      2\u001b[0m \u001b[0;31m#DATE_REF='2018-04-27'\u001b[0m\u001b[0;34m\u001b[0m\u001b[0;34m\u001b[0m\u001b[0m\n\u001b[1;32m      3\u001b[0m \u001b[0;31m#pd.datetime.p('2018-04-27')\u001b[0m\u001b[0;34m\u001b[0m\u001b[0;34m\u001b[0m\u001b[0m\n",
      "\u001b[0;31mTypeError\u001b[0m: utcfromtimestamp() takes no keyword arguments"
     ]
    }
   ],
   "source": [
    "pd.datetime.utcfromtimestamp(1524815895, tzinfo=datetime.timezone.utc)\n",
    "#DATE_REF='2018-04-27'\n",
    "#pd.datetime.p('2018-04-27')"
   ]
  },
  {
   "cell_type": "code",
   "execution_count": 524,
   "metadata": {},
   "outputs": [
    {
     "name": "stdout",
     "output_type": "stream",
     "text": [
      "CPU times: user 112 ms, sys: 108 ms, total: 220 ms\n",
      "Wall time: 1.49 s\n"
     ]
    }
   ],
   "source": [
    "%%time\n",
    "date_ref = datetime.datetime(2018,4,27, tzinfo=datetime.timezone.utc)\n",
    "path_ref = date_ref.strftime('./data/%Y/%m/%d/')\n",
    "p_in = pathlib.Path(path_ref)\n",
    "\n",
    "buckets = [list() for x in range(144)]\n",
    "buckets_processed = []\n",
    "\n",
    "at_midnight = date_ref.timestamp()\n",
    "for p in p_in.glob('*_diff.parq'):\n",
    "    i = int(at_midnight-int(p.name.split('_')[1]))//600\n",
    "    buckets[i].append(p)\n",
    "\n",
    "\n",
    "def mp_process(bucket):\n",
    "#    return bucket\n",
    "    txpool = pd.concat([wtfutil.pq.read_table(str(p)).to_pandas() for p in bucket]).query('diff == 1')\n",
    "    feeagg = wtfutil.feeagg(txpool, 800)\n",
    "    return feeagg.mvs / len(bucket) * 40\n",
    "\n",
    "with mp.Pool(18) as p:\n",
    "    buckets_processed = p.map(mp_process, buckets)\n",
    "\n",
    "\n"
   ]
  },
  {
   "cell_type": "code",
   "execution_count": 551,
   "metadata": {},
   "outputs": [],
   "source": [
    "df = pd.DataFrame(\n",
    "    data=buckets_processed, \n",
    "    index=pd.DatetimeIndex(start='2018-04-27', periods=144, freq='600S'),\n",
    "    dtype=np.float32\n",
    ").T\n",
    "\n",
    "# cleanup for storing in pq\n",
    "df = df.sort_index()\n",
    "df.index.name = None\n",
    "df.columns = df.columns.astype(str)"
   ]
  },
  {
   "cell_type": "code",
   "execution_count": 552,
   "metadata": {},
   "outputs": [
    {
     "data": {
      "text/plain": [
       "PosixPath('.')"
      ]
     },
     "execution_count": 552,
     "metadata": {},
     "output_type": "execute_result"
    }
   ],
   "source": [
    "pathlib.Path()"
   ]
  },
  {
   "cell_type": "code",
   "execution_count": null,
   "metadata": {},
   "outputs": [],
   "source": []
  },
  {
   "cell_type": "code",
   "execution_count": 553,
   "metadata": {},
   "outputs": [
    {
     "data": {
      "text/plain": [
       "[0.007233, 0.253628, 54, 35.06539471865063, 0.253628]"
      ]
     },
     "execution_count": 553,
     "metadata": {},
     "output_type": "execute_result"
    }
   ],
   "source": [
    "df.to_parquet(p_out, compression='none')\n",
    "# entries, compression ratio, filesize_MB\n",
    "[last.stat().st_size/1e6, p_out.stat().st_size/1e6, len(df_out), p_out.stat().st_size/last.stat().st_size, p_out.stat().st_size/1e6]"
   ]
  },
  {
   "cell_type": "code",
   "execution_count": 554,
   "metadata": {},
   "outputs": [
    {
     "data": {
      "text/html": [
       "<div>\n",
       "<style scoped>\n",
       "    .dataframe tbody tr th:only-of-type {\n",
       "        vertical-align: middle;\n",
       "    }\n",
       "\n",
       "    .dataframe tbody tr th {\n",
       "        vertical-align: top;\n",
       "    }\n",
       "\n",
       "    .dataframe thead th {\n",
       "        text-align: right;\n",
       "    }\n",
       "</style>\n",
       "<table border=\"1\" class=\"dataframe\">\n",
       "  <thead>\n",
       "    <tr style=\"text-align: right;\">\n",
       "      <th></th>\n",
       "      <th>2018-04-27 00:00:00</th>\n",
       "      <th>2018-04-27 00:10:00</th>\n",
       "      <th>2018-04-27 00:20:00</th>\n",
       "      <th>2018-04-27 00:30:00</th>\n",
       "      <th>2018-04-27 00:40:00</th>\n",
       "      <th>2018-04-27 00:50:00</th>\n",
       "      <th>2018-04-27 01:00:00</th>\n",
       "      <th>2018-04-27 01:10:00</th>\n",
       "      <th>2018-04-27 01:20:00</th>\n",
       "      <th>2018-04-27 01:30:00</th>\n",
       "      <th>...</th>\n",
       "      <th>2018-04-27 22:20:00</th>\n",
       "      <th>2018-04-27 22:30:00</th>\n",
       "      <th>2018-04-27 22:40:00</th>\n",
       "      <th>2018-04-27 22:50:00</th>\n",
       "      <th>2018-04-27 23:00:00</th>\n",
       "      <th>2018-04-27 23:10:00</th>\n",
       "      <th>2018-04-27 23:20:00</th>\n",
       "      <th>2018-04-27 23:30:00</th>\n",
       "      <th>2018-04-27 23:40:00</th>\n",
       "      <th>2018-04-27 23:50:00</th>\n",
       "    </tr>\n",
       "  </thead>\n",
       "  <tbody>\n",
       "    <tr>\n",
       "      <th>800</th>\n",
       "      <td>0.0</td>\n",
       "      <td>0.0</td>\n",
       "      <td>0.0</td>\n",
       "      <td>0.0</td>\n",
       "      <td>0.0</td>\n",
       "      <td>0.0</td>\n",
       "      <td>0.0</td>\n",
       "      <td>0.0</td>\n",
       "      <td>0.0</td>\n",
       "      <td>0.0</td>\n",
       "      <td>...</td>\n",
       "      <td>0.0</td>\n",
       "      <td>0.0</td>\n",
       "      <td>0.0</td>\n",
       "      <td>0.0</td>\n",
       "      <td>0.0</td>\n",
       "      <td>0.0</td>\n",
       "      <td>0.0</td>\n",
       "      <td>0.0</td>\n",
       "      <td>0.0</td>\n",
       "      <td>0.0</td>\n",
       "    </tr>\n",
       "    <tr>\n",
       "      <th>799</th>\n",
       "      <td>0.0</td>\n",
       "      <td>0.0</td>\n",
       "      <td>0.0</td>\n",
       "      <td>0.0</td>\n",
       "      <td>0.0</td>\n",
       "      <td>0.0</td>\n",
       "      <td>0.0</td>\n",
       "      <td>0.0</td>\n",
       "      <td>0.0</td>\n",
       "      <td>0.0</td>\n",
       "      <td>...</td>\n",
       "      <td>0.0</td>\n",
       "      <td>0.0</td>\n",
       "      <td>0.0</td>\n",
       "      <td>0.0</td>\n",
       "      <td>0.0</td>\n",
       "      <td>0.0</td>\n",
       "      <td>0.0</td>\n",
       "      <td>0.0</td>\n",
       "      <td>0.0</td>\n",
       "      <td>0.0</td>\n",
       "    </tr>\n",
       "    <tr>\n",
       "      <th>798</th>\n",
       "      <td>0.0</td>\n",
       "      <td>0.0</td>\n",
       "      <td>0.0</td>\n",
       "      <td>0.0</td>\n",
       "      <td>0.0</td>\n",
       "      <td>0.0</td>\n",
       "      <td>0.0</td>\n",
       "      <td>0.0</td>\n",
       "      <td>0.0</td>\n",
       "      <td>0.0</td>\n",
       "      <td>...</td>\n",
       "      <td>0.0</td>\n",
       "      <td>0.0</td>\n",
       "      <td>0.0</td>\n",
       "      <td>0.0</td>\n",
       "      <td>0.0</td>\n",
       "      <td>0.0</td>\n",
       "      <td>0.0</td>\n",
       "      <td>0.0</td>\n",
       "      <td>0.0</td>\n",
       "      <td>0.0</td>\n",
       "    </tr>\n",
       "    <tr>\n",
       "      <th>797</th>\n",
       "      <td>0.0</td>\n",
       "      <td>0.0</td>\n",
       "      <td>0.0</td>\n",
       "      <td>0.0</td>\n",
       "      <td>0.0</td>\n",
       "      <td>0.0</td>\n",
       "      <td>0.0</td>\n",
       "      <td>0.0</td>\n",
       "      <td>0.0</td>\n",
       "      <td>0.0</td>\n",
       "      <td>...</td>\n",
       "      <td>0.0</td>\n",
       "      <td>0.0</td>\n",
       "      <td>0.0</td>\n",
       "      <td>0.0</td>\n",
       "      <td>0.0</td>\n",
       "      <td>0.0</td>\n",
       "      <td>0.0</td>\n",
       "      <td>0.0</td>\n",
       "      <td>0.0</td>\n",
       "      <td>0.0</td>\n",
       "    </tr>\n",
       "    <tr>\n",
       "      <th>796</th>\n",
       "      <td>0.0</td>\n",
       "      <td>0.0</td>\n",
       "      <td>0.0</td>\n",
       "      <td>0.0</td>\n",
       "      <td>0.0</td>\n",
       "      <td>0.0</td>\n",
       "      <td>0.0</td>\n",
       "      <td>0.0</td>\n",
       "      <td>0.0</td>\n",
       "      <td>0.0</td>\n",
       "      <td>...</td>\n",
       "      <td>0.0</td>\n",
       "      <td>0.0</td>\n",
       "      <td>0.0</td>\n",
       "      <td>0.0</td>\n",
       "      <td>0.0</td>\n",
       "      <td>0.0</td>\n",
       "      <td>0.0</td>\n",
       "      <td>0.0</td>\n",
       "      <td>0.0</td>\n",
       "      <td>0.0</td>\n",
       "    </tr>\n",
       "  </tbody>\n",
       "</table>\n",
       "<p>5 rows × 144 columns</p>\n",
       "</div>"
      ],
      "text/plain": [
       "     2018-04-27 00:00:00  2018-04-27 00:10:00  2018-04-27 00:20:00  \\\n",
       "800                  0.0                  0.0                  0.0   \n",
       "799                  0.0                  0.0                  0.0   \n",
       "798                  0.0                  0.0                  0.0   \n",
       "797                  0.0                  0.0                  0.0   \n",
       "796                  0.0                  0.0                  0.0   \n",
       "\n",
       "     2018-04-27 00:30:00  2018-04-27 00:40:00  2018-04-27 00:50:00  \\\n",
       "800                  0.0                  0.0                  0.0   \n",
       "799                  0.0                  0.0                  0.0   \n",
       "798                  0.0                  0.0                  0.0   \n",
       "797                  0.0                  0.0                  0.0   \n",
       "796                  0.0                  0.0                  0.0   \n",
       "\n",
       "     2018-04-27 01:00:00  2018-04-27 01:10:00  2018-04-27 01:20:00  \\\n",
       "800                  0.0                  0.0                  0.0   \n",
       "799                  0.0                  0.0                  0.0   \n",
       "798                  0.0                  0.0                  0.0   \n",
       "797                  0.0                  0.0                  0.0   \n",
       "796                  0.0                  0.0                  0.0   \n",
       "\n",
       "     2018-04-27 01:30:00         ...           2018-04-27 22:20:00  \\\n",
       "800                  0.0         ...                           0.0   \n",
       "799                  0.0         ...                           0.0   \n",
       "798                  0.0         ...                           0.0   \n",
       "797                  0.0         ...                           0.0   \n",
       "796                  0.0         ...                           0.0   \n",
       "\n",
       "     2018-04-27 22:30:00  2018-04-27 22:40:00  2018-04-27 22:50:00  \\\n",
       "800                  0.0                  0.0                  0.0   \n",
       "799                  0.0                  0.0                  0.0   \n",
       "798                  0.0                  0.0                  0.0   \n",
       "797                  0.0                  0.0                  0.0   \n",
       "796                  0.0                  0.0                  0.0   \n",
       "\n",
       "     2018-04-27 23:00:00  2018-04-27 23:10:00  2018-04-27 23:20:00  \\\n",
       "800                  0.0                  0.0                  0.0   \n",
       "799                  0.0                  0.0                  0.0   \n",
       "798                  0.0                  0.0                  0.0   \n",
       "797                  0.0                  0.0                  0.0   \n",
       "796                  0.0                  0.0                  0.0   \n",
       "\n",
       "     2018-04-27 23:30:00  2018-04-27 23:40:00  2018-04-27 23:50:00  \n",
       "800                  0.0                  0.0                  0.0  \n",
       "799                  0.0                  0.0                  0.0  \n",
       "798                  0.0                  0.0                  0.0  \n",
       "797                  0.0                  0.0                  0.0  \n",
       "796                  0.0                  0.0                  0.0  \n",
       "\n",
       "[5 rows x 144 columns]"
      ]
     },
     "execution_count": 554,
     "metadata": {},
     "output_type": "execute_result"
    }
   ],
   "source": [
    "df_reread = pd.read_parquet(p_out)\n",
    "df = df_reread\n",
    "df.columns = pd.to_datetime(df.columns)\n",
    "df = df[::-1]\n",
    "df.head()\n"
   ]
  },
  {
   "cell_type": "code",
   "execution_count": 555,
   "metadata": {},
   "outputs": [],
   "source": [
    "def ceilgroup(df, div=40):\n",
    "    nidx = np.arange(800,-div,-div)\n",
    "    series = []\n",
    "    for n,idx in enumerate(nidx):\n",
    "        if idx == 0:\n",
    "            s = df[df.index == 0].sum()\n",
    "        else:\n",
    "            s = df[np.logical_and(df.index <= idx, nidx[n+1] < df.index)].sum()\n",
    "        series.append(s)    \n",
    "    return pd.DataFrame(series, index=nidx) \n"
   ]
  },
  {
   "cell_type": "code",
   "execution_count": 556,
   "metadata": {},
   "outputs": [],
   "source": [
    "#%%time\n",
    "df80 = ceilgroup(df,80).T\n"
   ]
  },
  {
   "cell_type": "code",
   "execution_count": 557,
   "metadata": {},
   "outputs": [
    {
     "data": {
      "image/png": "[encoded data removed]",
      "text/plain": [
       "<matplotlib.figure.Figure at 0x7fbae4fff390>"
      ]
     },
     "metadata": {},
     "output_type": "display_data"
    }
   ],
   "source": [
    "#df80 = df80.T\n",
    "fig = plt.figure(figsize=(16,2), dpi=72)\n",
    "ax = plt.subplot(111)\n",
    "ax.set_ylim([0,1])\n",
    "df80=df80.resample('10T').agg(np.average)\n",
    "#df80.plot(kind='bar', width=1, stacked=True, colormap='tab20b_r', ax=ax, legend=False, title='title')\n",
    "df80.plot(kind='area', stacked=True, colormap='tab20b_r', ax=ax, legend=False, title='title')\n",
    "\n",
    "for n, label in enumerate(ax.get_xticklabels()):\n",
    "    label.set_visible(n % 2 == 0)\n",
    "\n",
    "plt.show()\n"
   ]
  },
  {
   "cell_type": "code",
   "execution_count": 558,
   "metadata": {},
   "outputs": [
    {
     "data": {
      "text/plain": [
       "115344"
      ]
     },
     "execution_count": 558,
     "metadata": {},
     "output_type": "execute_result"
    }
   ],
   "source": [
    "df.size"
   ]
  },
  {
   "cell_type": "code",
   "execution_count": 559,
   "metadata": {},
   "outputs": [
    {
     "data": {
      "text/html": [
       "<style  type=\"text/css\" >\n",
       "    #T_d67b2df6_4c8f_11e8_971b_0242ac110005row0_col0 {\n",
       "            width:  10em;\n",
       "             height:  80%;\n",
       "        }    #T_d67b2df6_4c8f_11e8_971b_0242ac110005row1_col0 {\n",
       "            width:  10em;\n",
       "             height:  80%;\n",
       "            background:  linear-gradient(90deg,#d65f5f 0.4%, transparent 0%);\n",
       "        }    #T_d67b2df6_4c8f_11e8_971b_0242ac110005row2_col0 {\n",
       "            width:  10em;\n",
       "             height:  80%;\n",
       "            background:  linear-gradient(90deg,#d65f5f 3.4%, transparent 0%);\n",
       "        }    #T_d67b2df6_4c8f_11e8_971b_0242ac110005row3_col0 {\n",
       "            width:  10em;\n",
       "             height:  80%;\n",
       "            background:  linear-gradient(90deg,#d65f5f 11.0%, transparent 0%);\n",
       "        }    #T_d67b2df6_4c8f_11e8_971b_0242ac110005row4_col0 {\n",
       "            width:  10em;\n",
       "             height:  80%;\n",
       "            background:  linear-gradient(90deg,#d65f5f 100.0%, transparent 0%);\n",
       "        }    #T_d67b2df6_4c8f_11e8_971b_0242ac110005row5_col0 {\n",
       "            width:  10em;\n",
       "             height:  80%;\n",
       "            background:  linear-gradient(90deg,#d65f5f 62.3%, transparent 0%);\n",
       "        }    #T_d67b2df6_4c8f_11e8_971b_0242ac110005row6_col0 {\n",
       "            width:  10em;\n",
       "             height:  80%;\n",
       "            background:  linear-gradient(90deg,#d65f5f 18.3%, transparent 0%);\n",
       "        }    #T_d67b2df6_4c8f_11e8_971b_0242ac110005row7_col0 {\n",
       "            width:  10em;\n",
       "             height:  80%;\n",
       "            background:  linear-gradient(90deg,#d65f5f 52.8%, transparent 0%);\n",
       "        }    #T_d67b2df6_4c8f_11e8_971b_0242ac110005row8_col0 {\n",
       "            width:  10em;\n",
       "             height:  80%;\n",
       "            background:  linear-gradient(90deg,#d65f5f 17.1%, transparent 0%);\n",
       "        }    #T_d67b2df6_4c8f_11e8_971b_0242ac110005row9_col0 {\n",
       "            width:  10em;\n",
       "             height:  80%;\n",
       "            background:  linear-gradient(90deg,#d65f5f 86.8%, transparent 0%);\n",
       "        }    #T_d67b2df6_4c8f_11e8_971b_0242ac110005row10_col0 {\n",
       "            width:  10em;\n",
       "             height:  80%;\n",
       "            background:  linear-gradient(90deg,#d65f5f 2.2%, transparent 0%);\n",
       "        }</style>  \n",
       "<table id=\"T_d67b2df6_4c8f_11e8_971b_0242ac110005\" > \n",
       "<thead>    <tr> \n",
       "        <th class=\"blank level0\" ></th> \n",
       "        <th class=\"col_heading level0 col0\" >0</th> \n",
       "    </tr></thead> \n",
       "<tbody>    <tr> \n",
       "        <th id=\"T_d67b2df6_4c8f_11e8_971b_0242ac110005level0_row0\" class=\"row_heading level0 row0\" >800</th> \n",
       "        <td id=\"T_d67b2df6_4c8f_11e8_971b_0242ac110005row0_col0\" class=\"data row0 col0\" >5.05604e-05</td> \n",
       "    </tr>    <tr> \n",
       "        <th id=\"T_d67b2df6_4c8f_11e8_971b_0242ac110005level0_row1\" class=\"row_heading level0 row1\" >720</th> \n",
       "        <td id=\"T_d67b2df6_4c8f_11e8_971b_0242ac110005row1_col0\" class=\"data row1 col0\" >0.00103418</td> \n",
       "    </tr>    <tr> \n",
       "        <th id=\"T_d67b2df6_4c8f_11e8_971b_0242ac110005level0_row2\" class=\"row_heading level0 row2\" >640</th> \n",
       "        <td id=\"T_d67b2df6_4c8f_11e8_971b_0242ac110005row2_col0\" class=\"data row2 col0\" >0.00855302</td> \n",
       "    </tr>    <tr> \n",
       "        <th id=\"T_d67b2df6_4c8f_11e8_971b_0242ac110005level0_row3\" class=\"row_heading level0 row3\" >560</th> \n",
       "        <td id=\"T_d67b2df6_4c8f_11e8_971b_0242ac110005row3_col0\" class=\"data row3 col0\" >0.0279269</td> \n",
       "    </tr>    <tr> \n",
       "        <th id=\"T_d67b2df6_4c8f_11e8_971b_0242ac110005level0_row4\" class=\"row_heading level0 row4\" >480</th> \n",
       "        <td id=\"T_d67b2df6_4c8f_11e8_971b_0242ac110005row4_col0\" class=\"data row4 col0\" >0.252427</td> \n",
       "    </tr>    <tr> \n",
       "        <th id=\"T_d67b2df6_4c8f_11e8_971b_0242ac110005level0_row5\" class=\"row_heading level0 row5\" >400</th> \n",
       "        <td id=\"T_d67b2df6_4c8f_11e8_971b_0242ac110005row5_col0\" class=\"data row5 col0\" >0.157166</td> \n",
       "    </tr>    <tr> \n",
       "        <th id=\"T_d67b2df6_4c8f_11e8_971b_0242ac110005level0_row6\" class=\"row_heading level0 row6\" >320</th> \n",
       "        <td id=\"T_d67b2df6_4c8f_11e8_971b_0242ac110005row6_col0\" class=\"data row6 col0\" >0.0463449</td> \n",
       "    </tr>    <tr> \n",
       "        <th id=\"T_d67b2df6_4c8f_11e8_971b_0242ac110005level0_row7\" class=\"row_heading level0 row7\" >240</th> \n",
       "        <td id=\"T_d67b2df6_4c8f_11e8_971b_0242ac110005row7_col0\" class=\"data row7 col0\" >0.133429</td> \n",
       "    </tr>    <tr> \n",
       "        <th id=\"T_d67b2df6_4c8f_11e8_971b_0242ac110005level0_row8\" class=\"row_heading level0 row8\" >160</th> \n",
       "        <td id=\"T_d67b2df6_4c8f_11e8_971b_0242ac110005row8_col0\" class=\"data row8 col0\" >0.0430935</td> \n",
       "    </tr>    <tr> \n",
       "        <th id=\"T_d67b2df6_4c8f_11e8_971b_0242ac110005level0_row9\" class=\"row_heading level0 row9\" >80</th> \n",
       "        <td id=\"T_d67b2df6_4c8f_11e8_971b_0242ac110005row9_col0\" class=\"data row9 col0\" >0.219012</td> \n",
       "    </tr>    <tr> \n",
       "        <th id=\"T_d67b2df6_4c8f_11e8_971b_0242ac110005level0_row10\" class=\"row_heading level0 row10\" >0</th> \n",
       "        <td id=\"T_d67b2df6_4c8f_11e8_971b_0242ac110005row10_col0\" class=\"data row10 col0\" >0.00569572</td> \n",
       "    </tr></tbody> \n",
       "</table> "
      ],
      "text/plain": [
       "<pandas.io.formats.style.Styler at 0x7fbae5e639b0>"
      ]
     },
     "execution_count": 559,
     "metadata": {},
     "output_type": "execute_result"
    }
   ],
   "source": [
    "df0 = pd.DataFrame(ceilgroup(df,80).T.agg(np.average))\n",
    "df0.style.bar()"
   ]
  },
  {
   "cell_type": "code",
   "execution_count": null,
   "metadata": {},
   "outputs": [],
   "source": []
  },
  {
   "cell_type": "code",
   "execution_count": null,
   "metadata": {},
   "outputs": [],
   "source": []
  },
  {
   "cell_type": "code",
   "execution_count": null,
   "metadata": {},
   "outputs": [],
   "source": []
  },
  {
   "cell_type": "code",
   "execution_count": 455,
   "metadata": {},
   "outputs": [
    {
     "name": "stdout",
     "output_type": "stream",
     "text": [
      "CPU times: user 16 ms, sys: 0 ns, total: 16 ms\n",
      "Wall time: 14.1 ms\n"
     ]
    }
   ],
   "source": [
    "%%time\n",
    "\n",
    "div = 40\n",
    "\n",
    "nidx = np.arange(800,-div,-div)\n",
    "series = []\n",
    "for n,idx in enumerate(nidx):\n",
    "    if idx == 0:\n",
    "        s = df[df.index == 0].sum()\n",
    "    else:\n",
    "        s = df[np.logical_and(df.index <= idx, nidx[n+1] < df.index)].sum()\n",
    "    series.append(s)    \n",
    "df0 = pd.DataFrame(series, index=nidx) \n",
    "\n",
    "        \n",
    "#     0 in pd.Interval(left=0, right=0, closed='both')\n",
    "#     df.index in pd.Interval(left=0, right=0, closed='both')\n",
    "#df[pd.cut(df.index, np.arange(0,801,40))[1]]\n"
   ]
  },
  {
   "cell_type": "code",
   "execution_count": 435,
   "metadata": {},
   "outputs": [
    {
     "data": {
      "text/plain": [
       "Int64Index([800, 720, 640, 560, 480, 400, 320, 240, 160, 80, 0], dtype='int64')"
      ]
     },
     "execution_count": 435,
     "metadata": {},
     "output_type": "execute_result"
    }
   ],
   "source": [
    "div=80\n",
    "bins = pd.Int64Index(np.arange(800,-div,-div))\n",
    "bins"
   ]
  },
  {
   "cell_type": "code",
   "execution_count": 383,
   "metadata": {},
   "outputs": [
    {
     "data": {
      "text/plain": [
       "array([10, 10, 10, 10, 10, 10, 10, 10, 10, 10, 10, 10, 10, 10, 10, 10, 10,\n",
       "       10, 10, 10, 10, 10, 10, 10, 10, 10, 10, 10, 10, 10, 10, 10, 10, 10,\n",
       "       10, 10, 10, 10, 10, 10, 10, 10, 10, 10, 10, 10, 10, 10, 10, 10, 10,\n",
       "       10, 10, 10, 10, 10, 10, 10, 10, 10, 10, 10, 10, 10, 10, 10, 10, 10,\n",
       "       10, 10, 10, 10, 10, 10, 10, 10, 10, 10, 10, 10,  9,  9,  9,  9,  9,\n",
       "        9,  9,  9,  9,  9,  9,  9,  9,  9,  9,  9,  9,  9,  9,  9,  9,  9,\n",
       "        9,  9,  9,  9,  9,  9,  9,  9,  9,  9,  9,  9,  9,  9,  9,  9,  9,\n",
       "        9,  9,  9,  9,  9,  9,  9,  9,  9,  9,  9,  9,  9,  9,  9,  9,  9,\n",
       "        9,  9,  9,  9,  9,  9,  9,  9,  9,  9,  9,  9,  9,  9,  9,  9,  9,\n",
       "        9,  9,  9,  9,  9,  9,  9,  8,  8,  8,  8,  8,  8,  8,  8,  8,  8,\n",
       "        8,  8,  8,  8,  8,  8,  8,  8,  8,  8,  8,  8,  8,  8,  8,  8,  8,\n",
       "        8,  8,  8,  8,  8,  8,  8,  8,  8,  8,  8,  8,  8,  8,  8,  8,  8,\n",
       "        8,  8,  8,  8,  8,  8,  8,  8,  8,  8,  8,  8,  8,  8,  8,  8,  8,\n",
       "        8,  8,  8,  8,  8,  8,  8,  8,  8,  8,  8,  8,  8,  8,  8,  8,  8,\n",
       "        8,  8,  7,  7,  7,  7,  7,  7,  7,  7,  7,  7,  7,  7,  7,  7,  7,\n",
       "        7,  7,  7,  7,  7,  7,  7,  7,  7,  7,  7,  7,  7,  7,  7,  7,  7,\n",
       "        7,  7,  7,  7,  7,  7,  7,  7,  7,  7,  7,  7,  7,  7,  7,  7,  7,\n",
       "        7,  7,  7,  7,  7,  7,  7,  7,  7,  7,  7,  7,  7,  7,  7,  7,  7,\n",
       "        7,  7,  7,  7,  7,  7,  7,  7,  7,  7,  7,  7,  7,  7,  6,  6,  6,\n",
       "        6,  6,  6,  6,  6,  6,  6,  6,  6,  6,  6,  6,  6,  6,  6,  6,  6,\n",
       "        6,  6,  6,  6,  6,  6,  6,  6,  6,  6,  6,  6,  6,  6,  6,  6,  6,\n",
       "        6,  6,  6,  6,  6,  6,  6,  6,  6,  6,  6,  6,  6,  6,  6,  6,  6,\n",
       "        6,  6,  6,  6,  6,  6,  6,  6,  6,  6,  6,  6,  6,  6,  6,  6,  6,\n",
       "        6,  6,  6,  6,  6,  6,  6,  6,  6,  5,  5,  5,  5,  5,  5,  5,  5,\n",
       "        5,  5,  5,  5,  5,  5,  5,  5,  5,  5,  5,  5,  5,  5,  5,  5,  5,\n",
       "        5,  5,  5,  5,  5,  5,  5,  5,  5,  5,  5,  5,  5,  5,  5,  5,  5,\n",
       "        5,  5,  5,  5,  5,  5,  5,  5,  5,  5,  5,  5,  5,  5,  5,  5,  5,\n",
       "        5,  5,  5,  5,  5,  5,  5,  5,  5,  5,  5,  5,  5,  5,  5,  5,  5,\n",
       "        5,  5,  5,  5,  4,  4,  4,  4,  4,  4,  4,  4,  4,  4,  4,  4,  4,\n",
       "        4,  4,  4,  4,  4,  4,  4,  4,  4,  4,  4,  4,  4,  4,  4,  4,  4,\n",
       "        4,  4,  4,  4,  4,  4,  4,  4,  4,  4,  4,  4,  4,  4,  4,  4,  4,\n",
       "        4,  4,  4,  4,  4,  4,  4,  4,  4,  4,  4,  4,  4,  4,  4,  4,  4,\n",
       "        4,  4,  4,  4,  4,  4,  4,  4,  4,  4,  4,  4,  4,  4,  4,  4,  3,\n",
       "        3,  3,  3,  3,  3,  3,  3,  3,  3,  3,  3,  3,  3,  3,  3,  3,  3,\n",
       "        3,  3,  3,  3,  3,  3,  3,  3,  3,  3,  3,  3,  3,  3,  3,  3,  3,\n",
       "        3,  3,  3,  3,  3,  3,  3,  3,  3,  3,  3,  3,  3,  3,  3,  3,  3,\n",
       "        3,  3,  3,  3,  3,  3,  3,  3,  3,  3,  3,  3,  3,  3,  3,  3,  3,\n",
       "        3,  3,  3,  3,  3,  3,  3,  3,  3,  3,  3,  2,  2,  2,  2,  2,  2,\n",
       "        2,  2,  2,  2,  2,  2,  2,  2,  2,  2,  2,  2,  2,  2,  2,  2,  2,\n",
       "        2,  2,  2,  2,  2,  2,  2,  2,  2,  2,  2,  2,  2,  2,  2,  2,  2,\n",
       "        2,  2,  2,  2,  2,  2,  2,  2,  2,  2,  2,  2,  2,  2,  2,  2,  2,\n",
       "        2,  2,  2,  2,  2,  2,  2,  2,  2,  2,  2,  2,  2,  2,  2,  2,  2,\n",
       "        2,  2,  2,  2,  2,  2,  1,  1,  1,  1,  1,  1,  1,  1,  1,  1,  1,\n",
       "        1,  1,  1,  1,  1,  1,  1,  1,  1,  1,  1,  1,  1,  1,  1,  1,  1,\n",
       "        1,  1,  1,  1,  1,  1,  1,  1,  1,  1,  1,  1,  1,  1,  1,  1,  1,\n",
       "        1,  1,  1,  1,  1,  1,  1,  1,  1,  1,  1,  1,  1,  1,  1,  1,  1,\n",
       "        1,  1,  1,  1,  1,  1,  1,  1,  1,  1,  1,  1,  1,  1,  1,  1,  1,\n",
       "        1,  0])"
      ]
     },
     "execution_count": 383,
     "metadata": {},
     "output_type": "execute_result"
    }
   ],
   "source": [
    "np.digitize(df.index, bins)"
   ]
  },
  {
   "cell_type": "code",
   "execution_count": 394,
   "metadata": {},
   "outputs": [
    {
     "data": {
      "text/plain": [
       "array([11, 10, 10, 10, 10, 10, 10, 10, 10, 10, 10, 10, 10, 10, 10, 10, 10,\n",
       "       10, 10, 10, 10, 10, 10, 10, 10, 10, 10, 10, 10, 10, 10, 10, 10, 10,\n",
       "       10, 10, 10, 10, 10, 10, 10, 10, 10, 10, 10, 10, 10, 10, 10, 10, 10,\n",
       "       10, 10, 10, 10, 10, 10, 10, 10, 10, 10, 10, 10, 10, 10, 10, 10, 10,\n",
       "       10, 10, 10, 10, 10, 10, 10, 10, 10, 10, 10, 10, 10,  9,  9,  9,  9,\n",
       "        9,  9,  9,  9,  9,  9,  9,  9,  9,  9,  9,  9,  9,  9,  9,  9,  9,\n",
       "        9,  9,  9,  9,  9,  9,  9,  9,  9,  9,  9,  9,  9,  9,  9,  9,  9,\n",
       "        9,  9,  9,  9,  9,  9,  9,  9,  9,  9,  9,  9,  9,  9,  9,  9,  9,\n",
       "        9,  9,  9,  9,  9,  9,  9,  9,  9,  9,  9,  9,  9,  9,  9,  9,  9,\n",
       "        9,  9,  9,  9,  9,  9,  9,  9,  8,  8,  8,  8,  8,  8,  8,  8,  8,\n",
       "        8,  8,  8,  8,  8,  8,  8,  8,  8,  8,  8,  8,  8,  8,  8,  8,  8,\n",
       "        8,  8,  8,  8,  8,  8,  8,  8,  8,  8,  8,  8,  8,  8,  8,  8,  8,\n",
       "        8,  8,  8,  8,  8,  8,  8,  8,  8,  8,  8,  8,  8,  8,  8,  8,  8,\n",
       "        8,  8,  8,  8,  8,  8,  8,  8,  8,  8,  8,  8,  8,  8,  8,  8,  8,\n",
       "        8,  8,  8,  7,  7,  7,  7,  7,  7,  7,  7,  7,  7,  7,  7,  7,  7,\n",
       "        7,  7,  7,  7,  7,  7,  7,  7,  7,  7,  7,  7,  7,  7,  7,  7,  7,\n",
       "        7,  7,  7,  7,  7,  7,  7,  7,  7,  7,  7,  7,  7,  7,  7,  7,  7,\n",
       "        7,  7,  7,  7,  7,  7,  7,  7,  7,  7,  7,  7,  7,  7,  7,  7,  7,\n",
       "        7,  7,  7,  7,  7,  7,  7,  7,  7,  7,  7,  7,  7,  7,  7,  6,  6,\n",
       "        6,  6,  6,  6,  6,  6,  6,  6,  6,  6,  6,  6,  6,  6,  6,  6,  6,\n",
       "        6,  6,  6,  6,  6,  6,  6,  6,  6,  6,  6,  6,  6,  6,  6,  6,  6,\n",
       "        6,  6,  6,  6,  6,  6,  6,  6,  6,  6,  6,  6,  6,  6,  6,  6,  6,\n",
       "        6,  6,  6,  6,  6,  6,  6,  6,  6,  6,  6,  6,  6,  6,  6,  6,  6,\n",
       "        6,  6,  6,  6,  6,  6,  6,  6,  6,  6,  5,  5,  5,  5,  5,  5,  5,\n",
       "        5,  5,  5,  5,  5,  5,  5,  5,  5,  5,  5,  5,  5,  5,  5,  5,  5,\n",
       "        5,  5,  5,  5,  5,  5,  5,  5,  5,  5,  5,  5,  5,  5,  5,  5,  5,\n",
       "        5,  5,  5,  5,  5,  5,  5,  5,  5,  5,  5,  5,  5,  5,  5,  5,  5,\n",
       "        5,  5,  5,  5,  5,  5,  5,  5,  5,  5,  5,  5,  5,  5,  5,  5,  5,\n",
       "        5,  5,  5,  5,  5,  4,  4,  4,  4,  4,  4,  4,  4,  4,  4,  4,  4,\n",
       "        4,  4,  4,  4,  4,  4,  4,  4,  4,  4,  4,  4,  4,  4,  4,  4,  4,\n",
       "        4,  4,  4,  4,  4,  4,  4,  4,  4,  4,  4,  4,  4,  4,  4,  4,  4,\n",
       "        4,  4,  4,  4,  4,  4,  4,  4,  4,  4,  4,  4,  4,  4,  4,  4,  4,\n",
       "        4,  4,  4,  4,  4,  4,  4,  4,  4,  4,  4,  4,  4,  4,  4,  4,  4,\n",
       "        3,  3,  3,  3,  3,  3,  3,  3,  3,  3,  3,  3,  3,  3,  3,  3,  3,\n",
       "        3,  3,  3,  3,  3,  3,  3,  3,  3,  3,  3,  3,  3,  3,  3,  3,  3,\n",
       "        3,  3,  3,  3,  3,  3,  3,  3,  3,  3,  3,  3,  3,  3,  3,  3,  3,\n",
       "        3,  3,  3,  3,  3,  3,  3,  3,  3,  3,  3,  3,  3,  3,  3,  3,  3,\n",
       "        3,  3,  3,  3,  3,  3,  3,  3,  3,  3,  3,  3,  2,  2,  2,  2,  2,\n",
       "        2,  2,  2,  2,  2,  2,  2,  2,  2,  2,  2,  2,  2,  2,  2,  2,  2,\n",
       "        2,  2,  2,  2,  2,  2,  2,  2,  2,  2,  2,  2,  2,  2,  2,  2,  2,\n",
       "        2,  2,  2,  2,  2,  2,  2,  2,  2,  2,  2,  2,  2,  2,  2,  2,  2,\n",
       "        2,  2,  2,  2,  2,  2,  2,  2,  2,  2,  2,  2,  2,  2,  2,  2,  2,\n",
       "        2,  2,  2,  2,  2,  2,  2,  1,  1,  1,  1,  1,  1,  1,  1,  1,  1,\n",
       "        1,  1,  1,  1,  1,  1,  1,  1,  1,  1,  1,  1,  1,  1,  1,  1,  1,\n",
       "        1,  1,  1,  1,  1,  1,  1,  1,  1,  1,  1,  1,  1,  1,  1,  1,  1,\n",
       "        1,  1,  1,  1,  1,  1,  1,  1,  1,  1,  1,  1,  1,  1,  1,  1,  1,\n",
       "        1,  1,  1,  1,  1,  1,  1,  1,  1,  1,  1,  1,  1,  1,  1,  1,  1,\n",
       "        1,  1])"
      ]
     },
     "execution_count": 394,
     "metadata": {},
     "output_type": "execute_result"
    }
   ],
   "source": [
    "pd."
   ]
  },
  {
   "cell_type": "code",
   "execution_count": null,
   "metadata": {},
   "outputs": [],
   "source": []
  },
  {
   "cell_type": "code",
   "execution_count": null,
   "metadata": {},
   "outputs": [],
   "source": []
  }
 ],
 "metadata": {
  "kernelspec": {
   "display_name": "Python 3",
   "language": "python",
   "name": "python3"
  },
  "language_info": {
   "codemirror_mode": {
    "name": "ipython",
    "version": 3
   },
   "file_extension": ".py",
   "mimetype": "text/x-python",
   "name": "python",
   "nbconvert_exporter": "python",
   "pygments_lexer": "ipython3",
   "version": "3.6.3"
  }
 },
 "nbformat": 4,
 "nbformat_minor": 2
}
