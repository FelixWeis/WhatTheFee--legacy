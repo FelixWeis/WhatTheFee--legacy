{
 "cells": [
  {
   "cell_type": "code",
   "execution_count": null,
   "metadata": {},
   "outputs": [],
   "source": []
  },
  {
   "cell_type": "code",
   "execution_count": null,
   "metadata": {},
   "outputs": [],
   "source": [
    "import\n",
    "\n",
    "def pqload_lastn(prefix, suffix='full', n=1):\n",
    "    folder = pathlib.Path(prefix)\n",
    "    \n",
    "    paths = []\n",
    "    names = []\n",
    "    retval = {}\n",
    "    \n",
    "    for el in reversed(sorted(folder.glob(f'*_{suffix}.parq'))):\n",
    "        paths.append(el)\n",
    "        names.append(el.name)\n",
    "        retval[el.name] = pq.read_table(str(el)).to_pandas()\n",
    "        \n",
    "        if len(paths) >= n:\n",
    "            break\n",
    "    \n",
    "    return retval"
   ]
  }
 ],
 "metadata": {
  "kernelspec": {
   "display_name": "Python 3",
   "language": "python",
   "name": "python3"
  },
  "language_info": {
   "codemirror_mode": {
    "name": "ipython",
    "version": 3
   },
   "file_extension": ".py",
   "mimetype": "text/x-python",
   "name": "python",
   "nbconvert_exporter": "python",
   "pygments_lexer": "ipython3",
   "version": "3.6.3"
  }
 },
 "nbformat": 4,
 "nbformat_minor": 2
}
