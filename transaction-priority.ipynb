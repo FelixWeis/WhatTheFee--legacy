{
 "cells": [
  {
   "cell_type": "code",
   "execution_count": 293,
   "metadata": {},
   "outputs": [],
   "source": [
    "import pandas as pd\n",
    "import numpy as np\n",
    "import datetime as dt\n",
    "import pathlib\n",
    "import wtfutil"
   ]
  },
  {
   "cell_type": "code",
   "execution_count": 294,
   "metadata": {},
   "outputs": [],
   "source": [
    "PATH_PREFIX=dt.datetime.utcnow().strftime('data/%Y/%m/%d/')\n",
    "txpool_mpool = pd.concat(wtfutil.pqload_lastn(PATH_PREFIX, 'full', 1).values())"
   ]
  },
  {
   "cell_type": "code",
   "execution_count": 295,
   "metadata": {},
   "outputs": [],
   "source": [
    "df_feerate = txpool_mpool.assign(feerate=txpool_mpool.satoshi/txpool_mpool.vsize).sort_values('feerate')"
   ]
  },
  {
   "cell_type": "code",
   "execution_count": 296,
   "metadata": {},
   "outputs": [],
   "source": [
    "df = df_feerate.assign(rcs_vsize = df_feerate.vsize[::-1].cumsum())"
   ]
  },
  {
   "cell_type": "code",
   "execution_count": 297,
   "metadata": {},
   "outputs": [
    {
     "name": "stdout",
     "output_type": "stream",
     "text": [
      "CPU times: user 4 ms, sys: 0 ns, total: 4 ms\n",
      "Wall time: 3.78 ms\n"
     ]
    },
    {
     "data": {
      "text/plain": [
       "[24713    1.003134\n",
       " Name: feerate, dtype: float64]"
      ]
     },
     "execution_count": 297,
     "metadata": {},
     "output_type": "execute_result"
    }
   ],
   "source": [
    "%%time\n",
    "[df.query(\"rcs_vsize > 72e6\").tail(1).feerate]"
   ]
  },
  {
   "cell_type": "code",
   "execution_count": 298,
   "metadata": {},
   "outputs": [],
   "source": [
    "def mempool_ntiles(df_in, n=10, top=72, v=1e6):\n",
    "    positions = [top/n*i + top/n/2 for i in range(n)]\n",
    "    data = []\n",
    "    for p in positions:\n",
    "        t = df_in.query(f\"rcs_vsize > {p * v}\").tail(1)\n",
    "        if len(t):\n",
    "            data.append(float(t.feerate))\n",
    "        else:\n",
    "            data.append(None)\n",
    "        \n",
    "    return pd.Series(data, index=positions)\n",
    "\n",
    "s = mempool_ntiles(df,50)\n"
   ]
  },
  {
   "cell_type": "code",
   "execution_count": 299,
   "metadata": {},
   "outputs": [
    {
     "data": {
      "text/plain": [
       "4.0     4.953032\n",
       "12.0    4.263115\n",
       "20.0    3.158193\n",
       "28.0    2.225541\n",
       "36.0    1.648721\n",
       "44.0    1.349859\n",
       "52.0    1.284025\n",
       "60.0    1.000000\n",
       "68.0    1.000000\n",
       "dtype: float64"
      ]
     },
     "execution_count": 299,
     "metadata": {},
     "output_type": "execute_result"
    }
   ],
   "source": [
    "s= mempool_ntiles(df,9)\n",
    "np.exp(np.round(np.log(s)*20)/20)"
   ]
  },
  {
   "cell_type": "code",
   "execution_count": 300,
   "metadata": {},
   "outputs": [
    {
     "data": {
      "text/plain": [
       "0.5    4.953032\n",
       "1.5    4.953032\n",
       "2.5    4.953032\n",
       "3.5    4.953032\n",
       "4.5    4.953032\n",
       "5.5    4.953032\n",
       "6.5    4.953032\n",
       "7.5    4.953032\n",
       "8.5    4.953032\n",
       "dtype: float64"
      ]
     },
     "execution_count": 300,
     "metadata": {},
     "output_type": "execute_result"
    }
   ],
   "source": [
    "s= mempool_ntiles(df,9,9)\n",
    "np.exp(np.round(np.log(s)*20)/20)"
   ]
  },
  {
   "cell_type": "code",
   "execution_count": 301,
   "metadata": {},
   "outputs": [
    {
     "data": {
      "text/plain": [
       "3.6     4.953032\n",
       "10.8    4.953032\n",
       "18.0    3.320117\n",
       "25.2    2.585710\n",
       "32.4    1.915541\n",
       "39.6    1.419068\n",
       "46.8    1.284025\n",
       "54.0    1.161834\n",
       "61.2    1.000000\n",
       "68.4    1.000000\n",
       "dtype: float64"
      ]
     },
     "execution_count": 301,
     "metadata": {},
     "output_type": "execute_result"
    }
   ],
   "source": [
    "s= mempool_ntiles(df,10)\n",
    "np.exp(np.round(np.log(s)*20)/20)"
   ]
  },
  {
   "cell_type": "code",
   "execution_count": null,
   "metadata": {},
   "outputs": [],
   "source": []
  },
  {
   "cell_type": "code",
   "execution_count": null,
   "metadata": {},
   "outputs": [],
   "source": []
  },
  {
   "cell_type": "code",
   "execution_count": null,
   "metadata": {},
   "outputs": [],
   "source": []
  }
 ],
 "metadata": {
  "kernelspec": {
   "display_name": "Python 3",
   "language": "python",
   "name": "python3"
  },
  "language_info": {
   "codemirror_mode": {
    "name": "ipython",
    "version": 3
   },
   "file_extension": ".py",
   "mimetype": "text/x-python",
   "name": "python",
   "nbconvert_exporter": "python",
   "pygments_lexer": "ipython3",
   "version": "3.6.3"
  }
 },
 "nbformat": 4,
 "nbformat_minor": 2
}
