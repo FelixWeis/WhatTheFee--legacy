{
 "cells": [
  {
   "cell_type": "code",
   "execution_count": 174,
   "metadata": {},
   "outputs": [],
   "source": [
    "import pandas as pd, math as math, numpy as np"
   ]
  },
  {
   "cell_type": "code",
   "execution_count": 17,
   "metadata": {},
   "outputs": [],
   "source": [
    "data_dict = {'cnt': {0: 1.0, 1: 0.0, 2: 0.0, 3: 1.0, 4: 0.0, 5: 0.0, 6: 598.0, 7: 39.0, 8: 69.0, 9: 144.0, 10: 892.0, 11: 274.0, 12: 310.0, 13: 64.0, 14: 8.0, 15: 2.0, 16: 1.0, 17: 0.0, 18: 0.0, 19: 0.0}, 'btc': {0: 5.37e-06, 1: 0.0, 2: 0.0, 3: 2.423e-05, 4: 0.0, 5: 0.0, 6: 0.03101744, 7: 0.00435173, 8: 0.01390671, 9: 0.04671655, 10: 0.58776252, 11: 0.29729073, 12: 0.80912991, 13: 0.18318792, 14: 0.34381397, 15: 0.01308732, 16: 0.01, 17: 0.0, 18: 0.0, 19: 0.0}, 'mvs': {0: 0.000521, 1: 0.0, 2: 0.0, 3: 0.000667, 4: 0.0, 5: 0.0, 6: 0.136903, 7: 0.013437, 8: 0.025296, 9: 0.050455, 10: 0.375403, 11: 0.119186, 12: 0.210278, 13: 0.026496, 14: 0.038102, 15: 0.000859, 16: 0.000339, 17: 0.0, 18: 0.0, 19: 0.0}}"
   ]
  },
  {
   "cell_type": "code",
   "execution_count": 286,
   "metadata": {},
   "outputs": [
    {
     "data": {
      "text/html": [
       "<div>\n",
       "<style scoped>\n",
       "    .dataframe tbody tr th:only-of-type {\n",
       "        vertical-align: middle;\n",
       "    }\n",
       "\n",
       "    .dataframe tbody tr th {\n",
       "        vertical-align: top;\n",
       "    }\n",
       "\n",
       "    .dataframe thead th {\n",
       "        text-align: right;\n",
       "    }\n",
       "</style>\n",
       "<table border=\"1\" class=\"dataframe\">\n",
       "  <thead>\n",
       "    <tr style=\"text-align: right;\">\n",
       "      <th></th>\n",
       "      <th>btc</th>\n",
       "      <th>mvs</th>\n",
       "      <th>fr</th>\n",
       "      <th>th</th>\n",
       "    </tr>\n",
       "  </thead>\n",
       "  <tbody>\n",
       "    <tr>\n",
       "      <th>0</th>\n",
       "      <td>0.000005</td>\n",
       "      <td>0.000521</td>\n",
       "      <td>0.010307</td>\n",
       "      <td>NaN</td>\n",
       "    </tr>\n",
       "    <tr>\n",
       "      <th>1</th>\n",
       "      <td>0.000000</td>\n",
       "      <td>0.000000</td>\n",
       "      <td>NaN</td>\n",
       "      <td>NaN</td>\n",
       "    </tr>\n",
       "    <tr>\n",
       "      <th>2</th>\n",
       "      <td>0.000000</td>\n",
       "      <td>0.000000</td>\n",
       "      <td>NaN</td>\n",
       "      <td>NaN</td>\n",
       "    </tr>\n",
       "    <tr>\n",
       "      <th>3</th>\n",
       "      <td>0.000024</td>\n",
       "      <td>0.000667</td>\n",
       "      <td>0.036327</td>\n",
       "      <td>NaN</td>\n",
       "    </tr>\n",
       "    <tr>\n",
       "      <th>4</th>\n",
       "      <td>0.000000</td>\n",
       "      <td>0.000000</td>\n",
       "      <td>NaN</td>\n",
       "      <td>NaN</td>\n",
       "    </tr>\n",
       "    <tr>\n",
       "      <th>5</th>\n",
       "      <td>0.000000</td>\n",
       "      <td>0.000000</td>\n",
       "      <td>NaN</td>\n",
       "      <td>NaN</td>\n",
       "    </tr>\n",
       "    <tr>\n",
       "      <th>6</th>\n",
       "      <td>0.031017</td>\n",
       "      <td>0.136903</td>\n",
       "      <td>0.226565</td>\n",
       "      <td>0.920152</td>\n",
       "    </tr>\n",
       "    <tr>\n",
       "      <th>7</th>\n",
       "      <td>0.004352</td>\n",
       "      <td>0.013437</td>\n",
       "      <td>0.323862</td>\n",
       "      <td>1.312739</td>\n",
       "    </tr>\n",
       "    <tr>\n",
       "      <th>8</th>\n",
       "      <td>0.013907</td>\n",
       "      <td>0.025296</td>\n",
       "      <td>0.549759</td>\n",
       "      <td>2.218411</td>\n",
       "    </tr>\n",
       "    <tr>\n",
       "      <th>9</th>\n",
       "      <td>0.046717</td>\n",
       "      <td>0.050455</td>\n",
       "      <td>0.925905</td>\n",
       "      <td>3.708913</td>\n",
       "    </tr>\n",
       "    <tr>\n",
       "      <th>10</th>\n",
       "      <td>0.587763</td>\n",
       "      <td>0.375403</td>\n",
       "      <td>1.565684</td>\n",
       "      <td>6.196037</td>\n",
       "    </tr>\n",
       "    <tr>\n",
       "      <th>11</th>\n",
       "      <td>0.297291</td>\n",
       "      <td>0.119186</td>\n",
       "      <td>2.494343</td>\n",
       "      <td>9.705896</td>\n",
       "    </tr>\n",
       "    <tr>\n",
       "      <th>12</th>\n",
       "      <td>0.809130</td>\n",
       "      <td>0.210278</td>\n",
       "      <td>3.847906</td>\n",
       "      <td>14.629364</td>\n",
       "    </tr>\n",
       "    <tr>\n",
       "      <th>13</th>\n",
       "      <td>0.183188</td>\n",
       "      <td>0.026496</td>\n",
       "      <td>6.913795</td>\n",
       "      <td>25.066610</td>\n",
       "    </tr>\n",
       "    <tr>\n",
       "      <th>14</th>\n",
       "      <td>0.343814</td>\n",
       "      <td>0.038102</td>\n",
       "      <td>9.023515</td>\n",
       "      <td>31.769451</td>\n",
       "    </tr>\n",
       "    <tr>\n",
       "      <th>15</th>\n",
       "      <td>0.013087</td>\n",
       "      <td>0.000859</td>\n",
       "      <td>15.235530</td>\n",
       "      <td>NaN</td>\n",
       "    </tr>\n",
       "    <tr>\n",
       "      <th>16</th>\n",
       "      <td>0.010000</td>\n",
       "      <td>0.000339</td>\n",
       "      <td>29.498525</td>\n",
       "      <td>NaN</td>\n",
       "    </tr>\n",
       "    <tr>\n",
       "      <th>17</th>\n",
       "      <td>0.000000</td>\n",
       "      <td>0.000000</td>\n",
       "      <td>NaN</td>\n",
       "      <td>NaN</td>\n",
       "    </tr>\n",
       "    <tr>\n",
       "      <th>18</th>\n",
       "      <td>0.000000</td>\n",
       "      <td>0.000000</td>\n",
       "      <td>NaN</td>\n",
       "      <td>NaN</td>\n",
       "    </tr>\n",
       "    <tr>\n",
       "      <th>19</th>\n",
       "      <td>0.000000</td>\n",
       "      <td>0.000000</td>\n",
       "      <td>NaN</td>\n",
       "      <td>NaN</td>\n",
       "    </tr>\n",
       "  </tbody>\n",
       "</table>\n",
       "</div>"
      ],
      "text/plain": [
       "         btc       mvs         fr         th\n",
       "0   0.000005  0.000521   0.010307        NaN\n",
       "1   0.000000  0.000000        NaN        NaN\n",
       "2   0.000000  0.000000        NaN        NaN\n",
       "3   0.000024  0.000667   0.036327        NaN\n",
       "4   0.000000  0.000000        NaN        NaN\n",
       "5   0.000000  0.000000        NaN        NaN\n",
       "6   0.031017  0.136903   0.226565   0.920152\n",
       "7   0.004352  0.013437   0.323862   1.312739\n",
       "8   0.013907  0.025296   0.549759   2.218411\n",
       "9   0.046717  0.050455   0.925905   3.708913\n",
       "10  0.587763  0.375403   1.565684   6.196037\n",
       "11  0.297291  0.119186   2.494343   9.705896\n",
       "12  0.809130  0.210278   3.847906  14.629364\n",
       "13  0.183188  0.026496   6.913795  25.066610\n",
       "14  0.343814  0.038102   9.023515  31.769451\n",
       "15  0.013087  0.000859  15.235530        NaN\n",
       "16  0.010000  0.000339  29.498525        NaN\n",
       "17  0.000000  0.000000        NaN        NaN\n",
       "18  0.000000  0.000000        NaN        NaN\n",
       "19  0.000000  0.000000        NaN        NaN"
      ]
     },
     "execution_count": 286,
     "metadata": {},
     "output_type": "execute_result"
    }
   ],
   "source": [
    "df = pd.DataFrame.from_dict(data_dict)\n",
    "df = df.drop('cnt', 1).assign(\n",
    "    fr= lambda x: x.btc / x.mvs\n",
    "    )\n",
    "for index, row in df.iterrows():\n",
    "    if row.mvs >= 0.005:\n",
    "        df.loc[index, 'th'] = solve_t2(r=100, t=4, p=row.mvs, q=row.btc)\n",
    "df\n",
    "\n"
   ]
  },
  {
   "cell_type": "code",
   "execution_count": 264,
   "metadata": {},
   "outputs": [],
   "source": [
    "thickness = 10."
   ]
  },
  {
   "cell_type": "code",
   "execution_count": 265,
   "metadata": {},
   "outputs": [
    {
     "data": {
      "text/plain": [
       "64.0175425099138"
      ]
     },
     "execution_count": 265,
     "metadata": {},
     "output_type": "execute_result"
    }
   ],
   "source": [
    "#π(r*t)² - π(r/t)²\n",
    "def aa(r=150, t0=1, p=1.):\n",
    "    return p * (math.pi * (r+t0)**2 - math.pi * r**2)\n",
    "\n",
    "#def tn(q=1, pct=1):\n",
    "    \n",
    "#aa(1)\n",
    "#sum(df['mvs'])\n",
    "\n",
    "#df.assign(area_is= df[''])\n",
    "\n",
    "def solve_t2(r, t, p, q):\n",
    "    \n",
    "#     return max([\n",
    "#         -((p2 * q2 * (p2 * q2 * r**2 + (2*r + t)))**0.5 + p2 * q2 * r)/(p2 /q2),\n",
    "#         ((p2 * q2 * (p2 * q2 * r**2 + (2*r + t)))**0.5 - p2 * q2 * r)/(p2 /q2),\n",
    "#     ])\n",
    "    \n",
    "    # http://www.wolframalpha.com/input/?i=solve((p*(%CF%80*(r%2Bx)%C2%B2-%CF%80r%C2%B2))%2F(%CF%80*(r%2Bt)%C2%B2-%CF%80r%C2%B2))%3Dq\n",
    "    \n",
    "    D = 2*p\n",
    "    A = t*(2*r+t)\n",
    "    B = (2*p*r)/(t*(2*r+t))\n",
    "    C = ((4 * p**2 * r**2)/(t**2 * (2*r+t)**2)) + ((4*p*q)/(t*(2*r+t)))\n",
    "    \n",
    "    \n",
    "    return max([\n",
    "        - A * (B - C**0.5)/D,\n",
    "        - A * (C**0.5 + B)/D\n",
    "    ])\n",
    "    return max([\n",
    "        -((p2 * (p2 * r**2 + q2 * t * (2*r + t)))**0.5 + p2 * r)/p2,\n",
    "        ((p2 * (p2 * r**2 + q2 * t * (2*r - t)))**0.5 - p2 * r)/p2\n",
    "    ])\n",
    "\n",
    "\n",
    "\n",
    "solve_t2(r=50, t=5, p=.5, q=10)\n"
   ]
  },
  {
   "cell_type": "code",
   "execution_count": 162,
   "metadata": {},
   "outputs": [
    {
     "data": {
      "text/plain": [
       "2.0000000000000075"
      ]
     },
     "execution_count": 162,
     "metadata": {},
     "output_type": "execute_result"
    }
   ],
   "source": [
    "aa(r=150,t0=7.848028179005131, p=.5)/aa(r=150, t0=2, p=1)"
   ]
  },
  {
   "cell_type": "code",
   "execution_count": 201,
   "metadata": {},
   "outputs": [
    {
     "name": "stdout",
     "output_type": "stream",
     "text": [
      "0.043266427458465186\n",
      "0.15228283785935\n",
      "0.9405162274845075\n",
      "1.3378463351609733\n",
      "2.245935995778258\n",
      "3.716177418326015\n",
      "6.109325175807356\n",
      "9.377111599405616\n",
      "13.78565150255931\n",
      "22.634137795544884\n",
      "28.058071181624733\n",
      "41.97034814119569\n",
      "67.29167919637926\n"
     ]
    }
   ],
   "source": [
    "for t in df.itertuples():\n",
    "    if t.btc != 0:\n",
    "        print(solve_t2(40, 4, t.mvs, t.btc))"
   ]
  },
  {
   "cell_type": "code",
   "execution_count": 235,
   "metadata": {},
   "outputs": [
    {
     "data": {
      "text/plain": [
       "[{'x': '0', 'y': 0.000521, 'z': 0.04204413650091179},\n",
       " {'x': '1', 'y': 0.0, 'z': 0.0},\n",
       " {'x': '2', 'y': 0.0, 'z': 0.0},\n",
       " {'x': '3', 'y': 0.000667, 'z': 0.14810381954655646},\n",
       " {'x': '4', 'y': 0.0, 'z': 0.0},\n",
       " {'x': '5', 'y': 0.0, 'z': 0.0},\n",
       " {'x': '6', 'y': 0.136903, 'z': 0.9201521519008062},\n",
       " {'x': '7', 'y': 0.013437, 'z': 1.312739414504801},\n",
       " {'x': '8', 'y': 0.025296, 'z': 2.218411004999955},\n",
       " {'x': '9', 'y': 0.050455, 'z': 3.708913280805528},\n",
       " {'x': '10', 'y': 0.375403, 'z': 6.1960368905825645},\n",
       " {'x': '11', 'y': 0.119186, 'z': 9.70589614855494},\n",
       " {'x': '12', 'y': 0.210278, 'z': 14.629363745215777},\n",
       " {'x': '13', 'y': 0.026496, 'z': 25.066610078476728},\n",
       " {'x': '14', 'y': 0.038102, 'z': 31.769451207333393},\n",
       " {'x': '15', 'y': 0.000859, 'z': 49.77380352890727},\n",
       " {'x': '16', 'y': 0.000339, 'z': 84.58276317190887},\n",
       " {'x': '17', 'y': 0.0, 'z': 0.0},\n",
       " {'x': '18', 'y': 0.0, 'z': 0.0},\n",
       " {'x': '19', 'y': 0.0, 'z': 0.0}]"
      ]
     },
     "execution_count": 235,
     "metadata": {},
     "output_type": "execute_result"
    }
   ],
   "source": [
    "r = []\n",
    "for t in df.itertuples():\n",
    "    r.append(solve_t2(100, 4, t.mvs, t.btc) if t.btc != 0 else 0)\n",
    "\n",
    "\n",
    "#df.assign(t2=).to_dict()\n",
    "\n",
    "data = pd.DataFrame().assign(\n",
    "#    x=df['mvs']\n",
    "#    x=np.round(np.exp(df.index/2),1),\n",
    "    x=df.index,\n",
    "    y=df['mvs'],\n",
    "    z=pd.Series(r)\n",
    ")\n",
    "\n",
    "import json\n",
    "json.dumps(\n",
    "    [{\"x\": str(l.x), \"y\": l.y, \"z\": l.z} for l in data.itertuples()]\n",
    ")\n",
    "[{\"x\": str(l.x), \"y\": l.y, \"z\": l.z} for l in data.itertuples()]"
   ]
  },
  {
   "cell_type": "code",
   "execution_count": 262,
   "metadata": {},
   "outputs": [
    {
     "data": {
      "text/plain": [
       "34.75904422338414"
      ]
     },
     "execution_count": 262,
     "metadata": {},
     "output_type": "execute_result"
    }
   ],
   "source": [
    "solve_t2(r=100, t=4, p=1, q=10)"
   ]
  },
  {
   "cell_type": "code",
   "execution_count": 293,
   "metadata": {},
   "outputs": [
    {
     "data": {
      "text/plain": [
       "[-0.0,\n",
       " 1.0,\n",
       " 1.6457513110645905,\n",
       " 2.16227766016838,\n",
       " 2.6055512754639896,\n",
       " 3.000000000000001,\n",
       " 3.358898943540674,\n",
       " 3.69041575982343,\n",
       " 4.0,\n",
       " 4.291502622129181]"
      ]
     },
     "execution_count": 293,
     "metadata": {},
     "output_type": "execute_result"
    }
   ],
   "source": [
    "[\n",
    "    solve_t2(r=1, t=1, p=1, q=x)\n",
    "    for x in range(10)\n",
    "]"
   ]
  },
  {
   "cell_type": "code",
   "execution_count": null,
   "metadata": {},
   "outputs": [],
   "source": []
  }
 ],
 "metadata": {
  "kernelspec": {
   "display_name": "Python 3",
   "language": "python",
   "name": "python3"
  },
  "language_info": {
   "codemirror_mode": {
    "name": "ipython",
    "version": 3
   },
   "file_extension": ".py",
   "mimetype": "text/x-python",
   "name": "python",
   "nbconvert_exporter": "python",
   "pygments_lexer": "ipython3",
   "version": "3.6.3"
  }
 },
 "nbformat": 4,
 "nbformat_minor": 2
}
