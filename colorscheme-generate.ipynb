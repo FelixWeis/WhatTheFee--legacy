{
 "cells": [
  {
   "cell_type": "code",
   "execution_count": 317,
   "metadata": {},
   "outputs": [],
   "source": [
    "import numpy as np\n",
    "import pandas as pd\n",
    "import matplotlib.pyplot as plt\n",
    "import json\n",
    "import colorsys\n"
   ]
  },
  {
   "cell_type": "code",
   "execution_count": null,
   "metadata": {},
   "outputs": [],
   "source": []
  },
  {
   "cell_type": "code",
   "execution_count": 338,
   "metadata": {},
   "outputs": [],
   "source": [
    "mvs = pd.Series({0: 0.0,\n",
    " 20: 0.0,\n",
    " 40: 0.0,\n",
    " 60: 0.0,\n",
    " 80: 0.0,\n",
    " 100: 0.0,\n",
    " 120: 0.0,\n",
    " 140: 0.0,\n",
    " 160: 0.000226,\n",
    " 180: 0.0,\n",
    " 200: 0.0,\n",
    " 220: 0.0,\n",
    " 240: 0.0,\n",
    " 260: 0.0,\n",
    " 280: 0.000225,\n",
    " 300: 0.0,\n",
    " 320: 0.0,\n",
    " 340: 0.001088,\n",
    " 360: 0.002319,\n",
    " 380: 0.125633,\n",
    " 400: 17.339297,\n",
    " 420: 5.157534,\n",
    " 440: 6.46931,\n",
    " 460: 79.883641,\n",
    " 480: 1.34629,\n",
    " 500: 8.420705,\n",
    " 520: 0.03769,\n",
    " 540: 0.027713,\n",
    " 560: 0.04172,\n",
    " 580: 0.023475,\n",
    " 600: 0.043834,\n",
    " 620: 0.014279,\n",
    " 640: 0.005515,\n",
    " 660: 0.004495,\n",
    " 680: 0.001189,\n",
    " 700: 0.000826,\n",
    " 720: 0.0,\n",
    " 740: 0.0,\n",
    " 760: 0.0,\n",
    " 780: 0.000191})\n",
    "mvs2= pd.Series({0: 0.0,\n",
    " 20: 0.0,\n",
    " 40: 0.0,\n",
    " 60: 0.0,\n",
    " 80: 0.0,\n",
    " 100: 0.0,\n",
    " 120: 0.0,\n",
    " 140: 0.0,\n",
    " 160: 0.0,\n",
    " 180: 0.0,\n",
    " 200: 0.0,\n",
    " 220: 0.0,\n",
    " 240: 0.0,\n",
    " 260: 0.0,\n",
    " 280: 0.0,\n",
    " 300: 0.0,\n",
    " 320: 0.0,\n",
    " 340: 0.0,\n",
    " 360: 0.0,\n",
    " 380: 0.12623933333333334,\n",
    " 400: 0.15267833333333333,\n",
    " 420: 0.003592,\n",
    " 440: 0.002205333333333333,\n",
    " 460: 0.043891000000000006,\n",
    " 480: 0.007756333333333334,\n",
    " 500: 0.045602333333333335,\n",
    " 520: 0.05737766666666667,\n",
    " 540: 0.13501133333333334,\n",
    " 560: 0.03515633333333333,\n",
    " 580: 0.11789233333333334,\n",
    " 600: 0.5811743333333333,\n",
    " 620: 0.092071,\n",
    " 640: 0.040012000000000006,\n",
    " 660: 0.04078333333333333,\n",
    " 680: 0.0053623333333333335,\n",
    " 700: 0.0020046666666666667,\n",
    " 720: 0.001896,\n",
    " 740: 6.366666666666666e-05,\n",
    " 760: 0.00010833333333333333,\n",
    " 780: 0.0})"
   ]
  },
  {
   "cell_type": "code",
   "execution_count": 3,
   "metadata": {},
   "outputs": [
    {
     "name": "stdout",
     "output_type": "stream",
     "text": [
      "[\n",
      "\"rgb(57, 59, 121)\",\n",
      "\"rgb(82, 84, 164)\",\n",
      "\"rgb(107, 110, 208)\",\n",
      "\"rgb(157, 159, 223)\",\n",
      "\"rgb(99, 121, 57)\",\n",
      "\"rgb(141, 163, 82)\",\n",
      "\"rgb(182, 208, 107)\",\n",
      "\"rgb(207, 220, 157)\",\n",
      "\"rgb(141, 109, 49)\",\n",
      "\"rgb(190, 159, 57)\",\n",
      "\"rgb(232, 187, 82)\",\n",
      "\"rgb(232, 204, 149)\",\n",
      "\"rgb(133, 60, 57)\",\n",
      "\"rgb(174, 73, 74)\",\n",
      "\"rgb(215, 97, 107)\",\n",
      "\"rgb(232, 151, 157)\",\n",
      "\"rgb(123, 65, 115)\",\n",
      "\"rgb(166, 81, 149)\",\n",
      "\"rgb(207, 109, 190)\",\n",
      "\"rgb(223, 159, 215)\"\n",
      "]\n"
     ]
    }
   ],
   "source": [
    "\n",
    "print('[', \n",
    "      ',\\n'.join(map(\n",
    "                lambda x: f'\"rgb({x[0]*256:.0f}, {x[1]*256:.0f}, {x[2]*256:.0f})\"',\n",
    "                plt.cm.Vega20b(np.arange(20))\n",
    "            )),\n",
    "      ']', sep='\\n')"
   ]
  },
  {
   "cell_type": "code",
   "execution_count": 7,
   "metadata": {},
   "outputs": [
    {
     "data": {
      "text/plain": [
       "[(0.66145833333333337, 0.34901960784313724, 0.3595505617977528),\n",
       " (0.66255144032921809, 0.48039215686274506, 0.33061224489795915),\n",
       " (0.66166666666666663, 0.61568627450980395, 0.51020408163265307),\n",
       " (0.66161616161616166, 0.74117647058823533, 0.5),\n",
       " (0.22395833333333334, 0.34901960784313724, 0.3595505617977528),\n",
       " (0.21249999999999999, 0.47843137254901957, 0.32786885245901637),\n",
       " (0.20999999999999996, 0.61568627450980395, 0.51020408163265307),\n",
       " (0.20105820105820102, 0.73529411764705888, 0.46666666666666656),\n",
       " (0.10989010989010987, 0.37058823529411766, 0.48148148148148157),\n",
       " (0.12752525252525251, 0.4823529411764706, 0.53658536585365857),\n",
       " (0.11633109619686799, 0.61372549019607847, 0.75634517766497433),\n",
       " (0.11044176706827306, 0.74313725490196081, 0.63358778625954182),\n",
       " (0.0066666666666666723, 0.37058823529411766, 0.39682539682539691),\n",
       " (0.99833333333333329, 0.4823529411764706, 0.40650406504065045),\n",
       " (0.98575498575498577, 0.6098039215686275, 0.58793969849246241),\n",
       " (0.98765432098765427, 0.74705882352941178, 0.62790697674418594),\n",
       " (0.85632183908045978, 0.36862745098039218, 0.30851063829787234),\n",
       " (0.86706349206349209, 0.4823529411764706, 0.34146341463414637),\n",
       " (0.86254295532646053, 0.61764705882352944, 0.4974358974358975),\n",
       " (0.85416666666666663, 0.74509803921568629, 0.49230769230769234)]"
      ]
     },
     "execution_count": 7,
     "metadata": {},
     "output_type": "execute_result"
    }
   ],
   "source": [
    "orig = plt.cm.Vega20b(np.arange(20))\n",
    "list(map(lambda x: colorsys.rgb_to_hls(x[0], x[1], x[2]), orig))"
   ]
  },
  {
   "cell_type": "code",
   "execution_count": null,
   "metadata": {},
   "outputs": [],
   "source": [
    "skip = []\n",
    "#for i in range(0,len(plt.cm.colors)//4+1):\n",
    "#    skip.append(4*i)\n",
    "# the colormap is called Vega in my Matplotlib version\n",
    "colors =  plt.cm.cubehelix( X=1 )\n",
    "plt.scatter(np.arange(15),np.ones(15), c=colors, s=180)\n",
    "\n",
    "plt.show()"
   ]
  },
  {
   "cell_type": "code",
   "execution_count": 39,
   "metadata": {},
   "outputs": [
    {
     "data": {
      "text/plain": [
       "array([  1.        ,   1.29154967,   1.66810054,   2.15443469,\n",
       "         2.7825594 ,   3.59381366,   4.64158883,   5.9948425 ,\n",
       "         7.74263683,  10.        ])"
      ]
     },
     "execution_count": 39,
     "metadata": {},
     "output_type": "execute_result"
    }
   ],
   "source": [
    "np.logspace(0,1, 10\n",
    "        )"
   ]
  },
  {
   "cell_type": "code",
   "execution_count": 1,
   "metadata": {},
   "outputs": [
    {
     "ename": "NameError",
     "evalue": "name 'plt' is not defined",
     "output_type": "error",
     "traceback": [
      "\u001b[0;31m---------------------------------------------------------------------------\u001b[0m",
      "\u001b[0;31mNameError\u001b[0m                                 Traceback (most recent call last)",
      "\u001b[0;32m<ipython-input-1-b2e7d78364da>\u001b[0m in \u001b[0;36m<module>\u001b[0;34m()\u001b[0m\n\u001b[0;32m----> 1\u001b[0;31m \u001b[0mplt\u001b[0m\u001b[0;34m.\u001b[0m\u001b[0mcm\u001b[0m\u001b[0;34m.\u001b[0m\u001b[0mcubehelix\u001b[0m\u001b[0;34m(\u001b[0m\u001b[0mnp\u001b[0m\u001b[0;34m.\u001b[0m\u001b[0marange\u001b[0m\u001b[0;34m(\u001b[0m\u001b[0;36m10\u001b[0m\u001b[0;34m)\u001b[0m\u001b[0;34m)\u001b[0m\u001b[0;34m\u001b[0m\u001b[0m\n\u001b[0m",
      "\u001b[0;31mNameError\u001b[0m: name 'plt' is not defined"
     ]
    }
   ],
   "source": [
    "plt.cm.cubehelix(np.arange(10))"
   ]
  },
  {
   "cell_type": "code",
   "execution_count": 8,
   "metadata": {},
   "outputs": [
    {
     "data": {
      "text/plain": [
       "[[(0.66, 0.35, 0.35), (0.66, 0.75, 0.5)],\n",
       " [(0.224, 0.35, 0.35), (0.224, 0.75, 0.5)],\n",
       " [(0.111, 0.35, 0.35), (0.111, 0.75, 0.5)],\n",
       " [(0.0, 0.35, 0.35), (0.0, 0.75, 0.5)],\n",
       " [(0.85, 0.35, 0.35), (0.85, 0.75, 0.75)]]"
      ]
     },
     "execution_count": 8,
     "metadata": {},
     "output_type": "execute_result"
    }
   ],
   "source": [
    "[\n",
    "    [(.66, .35, .35), (.66, .75, .50)],\n",
    "    [(.224, .35, .35), (.224, .75, .5)],\n",
    "    [(.111, .35, .35), (.111, .75, .5)],\n",
    "    [(.0, .35, .35), (.0, .75, .5)],\n",
    "    [(.85, .35, .35), (.85, .75, .75)]\n",
    "]"
   ]
  },
  {
   "cell_type": "code",
   "execution_count": 458,
   "metadata": {},
   "outputs": [],
   "source": [
    "class ColorDivs:\n",
    "    d = None\n",
    "    sz = None\n",
    "    def __init__(self, d, sz=50):\n",
    "        self.d = d\n",
    "        self.sz = sz\n",
    "        \n",
    "    def _repr_html_(self):\n",
    "        r = '<div>'\n",
    "        for c in self.d:\n",
    "            background = f'hsl({c[0]:.0f}, {c[1] * 100:.4f}%, {c[2] * 100:.4f}%)'\n",
    "            \n",
    "            style = f'width: {self.sz}px; height: {self.sz}px; background: {background}; display: inline-block'\n",
    "            r += f'<span style=\"{style}\"></span>'\n",
    "            \n",
    "        r += '</div>'\n",
    "        return r\n",
    "    def __repr__(self):\n",
    "        r=[]\n",
    "        for c in self.d:\n",
    "            background = f'hsl({c[0]:.0f}, {c[1] * 100:.2f}%, {c[2] * 100:.2f}%)'\n",
    "            r.append(background)\n",
    "        return repr(r)\n",
    "\n",
    "from numpy import mean\n",
    "\n",
    "def middle(d):\n",
    "    r = []\n",
    "    for i in range(0, len(d) * 2 - 1):\n",
    "        if i % 2 == 1:\n",
    "            a = d[i//2]\n",
    "            b = d[i//2+1]\n",
    "            r.append(tuple(map(mean, zip(a,b))))\n",
    "        else:\n",
    "            r.append(d[int(i//2)])\n",
    "        \n",
    "    return r\n",
    "\n"
   ]
  },
  {
   "cell_type": "code",
   "execution_count": 459,
   "metadata": {},
   "outputs": [
    {
     "data": {
      "text/html": [
       "<div><span style=\"width: 50px; height: 50px; background: hsl(240, 33.0000%, 25.0000%); display: inline-block\"></span><span style=\"width: 50px; height: 50px; background: hsl(240, 37.2500%, 31.2500%); display: inline-block\"></span><span style=\"width: 50px; height: 50px; background: hsl(240, 41.5000%, 37.5000%); display: inline-block\"></span><span style=\"width: 50px; height: 50px; background: hsl(240, 45.7500%, 43.7500%); display: inline-block\"></span><span style=\"width: 50px; height: 50px; background: hsl(240, 50.0000%, 50.0000%); display: inline-block\"></span><span style=\"width: 50px; height: 50px; background: hsl(238, 46.2500%, 56.2500%); display: inline-block\"></span><span style=\"width: 50px; height: 50px; background: hsl(235, 42.5000%, 62.5000%); display: inline-block\"></span><span style=\"width: 50px; height: 50px; background: hsl(232, 38.7500%, 68.7500%); display: inline-block\"></span><span style=\"width: 50px; height: 50px; background: hsl(230, 35.0000%, 75.0000%); display: inline-block\"></span></div>"
      ],
      "text/plain": [
       "['hsl(240, 33.00%, 25.00%)', 'hsl(240, 37.25%, 31.25%)', 'hsl(240, 41.50%, 37.50%)', 'hsl(240, 45.75%, 43.75%)', 'hsl(240, 50.00%, 50.00%)', 'hsl(238, 46.25%, 56.25%)', 'hsl(235, 42.50%, 62.50%)', 'hsl(232, 38.75%, 68.75%)', 'hsl(230, 35.00%, 75.00%)']"
      ]
     },
     "execution_count": 459,
     "metadata": {},
     "output_type": "execute_result"
    }
   ],
   "source": [
    "blues = [(240,.33,.25),(240,.50,.50),(230,.35,.75)]\n",
    "ColorDivs(middle(middle(blues)))"
   ]
  },
  {
   "cell_type": "code",
   "execution_count": 311,
   "metadata": {},
   "outputs": [
    {
     "data": {
      "text/html": [
       "<div><span style=\"width: 50px; height: 50px; background: hsl(120, 33.3000%, 25.0000%); display: inline-block\"></span><span style=\"width: 50px; height: 50px; background: hsl(120, 36.2250%, 31.2500%); display: inline-block\"></span><span style=\"width: 50px; height: 50px; background: hsl(120, 39.1500%, 37.5000%); display: inline-block\"></span><span style=\"width: 50px; height: 50px; background: hsl(120, 42.0750%, 43.7500%); display: inline-block\"></span><span style=\"width: 50px; height: 50px; background: hsl(120, 45.0000%, 50.0000%); display: inline-block\"></span><span style=\"width: 50px; height: 50px; background: hsl(120, 42.0000%, 56.2500%); display: inline-block\"></span><span style=\"width: 50px; height: 50px; background: hsl(120, 39.0000%, 62.5000%); display: inline-block\"></span><span style=\"width: 50px; height: 50px; background: hsl(120, 36.0000%, 68.7500%); display: inline-block\"></span><span style=\"width: 50px; height: 50px; background: hsl(120, 33.0000%, 75.0000%); display: inline-block\"></span></div>"
      ],
      "text/plain": [
       "<__main__.ColorDivs at 0x7fdc14bc9e48>"
      ]
     },
     "execution_count": 311,
     "metadata": {},
     "output_type": "execute_result"
    }
   ],
   "source": [
    "greens = [(120,.333,.25),(120,.45,.50),(120,.33,.75)]\n",
    "ColorDivs(middle(middle(greens)))"
   ]
  },
  {
   "cell_type": "code",
   "execution_count": 309,
   "metadata": {},
   "outputs": [
    {
     "data": {
      "text/html": [
       "<div><span style=\"width: 50px; height: 50px; background: hsl(30, 33.0000%, 25.0000%); display: inline-block\"></span><span style=\"width: 50px; height: 50px; background: hsl(30, 43.5000%, 31.2500%); display: inline-block\"></span><span style=\"width: 50px; height: 50px; background: hsl(30, 54.0000%, 37.5000%); display: inline-block\"></span><span style=\"width: 50px; height: 50px; background: hsl(30, 64.5000%, 43.7500%); display: inline-block\"></span><span style=\"width: 50px; height: 50px; background: hsl(30, 75.0000%, 50.0000%); display: inline-block\"></span><span style=\"width: 50px; height: 50px; background: hsl(30, 64.5000%, 56.2500%); display: inline-block\"></span><span style=\"width: 50px; height: 50px; background: hsl(30, 54.0000%, 62.5000%); display: inline-block\"></span><span style=\"width: 50px; height: 50px; background: hsl(30, 43.5000%, 68.7500%); display: inline-block\"></span><span style=\"width: 50px; height: 50px; background: hsl(30, 33.0000%, 75.0000%); display: inline-block\"></span></div>"
      ],
      "text/plain": [
       "<__main__.ColorDivs at 0x7fdc14bc9c18>"
      ]
     },
     "execution_count": 309,
     "metadata": {},
     "output_type": "execute_result"
    }
   ],
   "source": [
    "oranges = [(30,.33,.25),(30,.75,.50),(30,.33,.75)]\n",
    "ColorDivs(middle(middle(oranges)))"
   ]
  },
  {
   "cell_type": "code",
   "execution_count": 289,
   "metadata": {},
   "outputs": [
    {
     "data": {
      "text/html": [
       "<div><span style=\"width: 50px; height: 50px; background: hsl(5, 35.0000%, 35.0000%); display: inline-block\"></span><span style=\"width: 50px; height: 50px; background: hsl(5, 42.7500%, 38.7500%); display: inline-block\"></span><span style=\"width: 50px; height: 50px; background: hsl(5, 50.5000%, 42.5000%); display: inline-block\"></span><span style=\"width: 50px; height: 50px; background: hsl(5, 58.2500%, 46.2500%); display: inline-block\"></span><span style=\"width: 50px; height: 50px; background: hsl(5, 66.0000%, 50.0000%); display: inline-block\"></span><span style=\"width: 50px; height: 50px; background: hsl(5, 58.2500%, 56.2500%); display: inline-block\"></span><span style=\"width: 50px; height: 50px; background: hsl(5, 50.5000%, 62.5000%); display: inline-block\"></span><span style=\"width: 50px; height: 50px; background: hsl(5, 42.7500%, 68.7500%); display: inline-block\"></span><span style=\"width: 50px; height: 50px; background: hsl(5, 35.0000%, 75.0000%); display: inline-block\"></span></div>"
      ],
      "text/plain": [
       "<__main__.ColorDivs at 0x7fdc14c2d518>"
      ]
     },
     "execution_count": 289,
     "metadata": {},
     "output_type": "execute_result"
    }
   ],
   "source": [
    "reds = [(0,.33,.25),(0,.66,.50),(5,.35,.75)]\n",
    "ColorDivs(middle(middle(reds)))"
   ]
  },
  {
   "cell_type": "code",
   "execution_count": 291,
   "metadata": {},
   "outputs": [
    {
     "data": {
      "text/html": [
       "<div><span style=\"width: 50px; height: 50px; background: hsl(300, 33.0000%, 33.0000%); display: inline-block\"></span><span style=\"width: 50px; height: 50px; background: hsl(300, 41.2500%, 37.2500%); display: inline-block\"></span><span style=\"width: 50px; height: 50px; background: hsl(300, 49.5000%, 41.5000%); display: inline-block\"></span><span style=\"width: 50px; height: 50px; background: hsl(300, 57.7500%, 45.7500%); display: inline-block\"></span><span style=\"width: 50px; height: 50px; background: hsl(300, 66.0000%, 50.0000%); display: inline-block\"></span><span style=\"width: 50px; height: 50px; background: hsl(300, 57.7500%, 54.0000%); display: inline-block\"></span><span style=\"width: 50px; height: 50px; background: hsl(300, 49.5000%, 58.0000%); display: inline-block\"></span><span style=\"width: 50px; height: 50px; background: hsl(300, 41.2500%, 62.0000%); display: inline-block\"></span><span style=\"width: 50px; height: 50px; background: hsl(300, 33.0000%, 66.0000%); display: inline-block\"></span></div>"
      ],
      "text/plain": [
       "<__main__.ColorDivs at 0x7fdc14c2dc18>"
      ]
     },
     "execution_count": 291,
     "metadata": {},
     "output_type": "execute_result"
    }
   ],
   "source": [
    "purples = [(300,.33,.33),(300,.66,.50),(300,.33,.66)]\n",
    "ColorDivs(middle(middle(purples)))"
   ]
  },
  {
   "cell_type": "code",
   "execution_count": 142,
   "metadata": {},
   "outputs": [
    {
     "data": {
      "text/html": [
       "<div><span style=\"width: 50px; height: 50px; background: hsl(0, 0.0000%, 35.0000%); display: inline-block\"></span><span style=\"width: 50px; height: 50px; background: hsl(0, 0.0000%, 50.0000%); display: inline-block\"></span><span style=\"width: 50px; height: 50px; background: hsl(0, 0.0000%, 75.0000%); display: inline-block\"></span></div>"
      ],
      "text/plain": [
       "<__main__.ColorDivs at 0x7fdc14d19c50>"
      ]
     },
     "execution_count": 142,
     "metadata": {},
     "output_type": "execute_result"
    }
   ],
   "source": [
    "greys = [(0,.0,.35),(0,.0,.50),(0,.0,.75)]\n",
    "ColorDivs(greys)"
   ]
  },
  {
   "cell_type": "code",
   "execution_count": 540,
   "metadata": {},
   "outputs": [
    {
     "name": "stdout",
     "output_type": "stream",
     "text": [
      "[0, 20, 40, 60, 80, 100, 120, 140, 160, 180, 200, 220, 240, 260, 280, 300, 320, 340, 360, 380, 400, 420, 440, 460, 480, 500, 520, 540, 560, 580, 600, 620, 640, 660, 680, 700, 720, 740, 760, 780, 800, 820, 840, 860, 880]\n"
     ]
    },
    {
     "data": {
      "text/html": [
       "<div><span style=\"width: 40px; height: 40px; background: hsl(240, 35.0000%, 35.0000%); display: inline-block\"></span><span style=\"width: 40px; height: 40px; background: hsl(240, 42.5000%, 41.2500%); display: inline-block\"></span><span style=\"width: 40px; height: 40px; background: hsl(240, 50.0000%, 47.5000%); display: inline-block\"></span><span style=\"width: 40px; height: 40px; background: hsl(240, 57.5000%, 53.7500%); display: inline-block\"></span><span style=\"width: 40px; height: 40px; background: hsl(240, 65.0000%, 60.0000%); display: inline-block\"></span><span style=\"width: 40px; height: 40px; background: hsl(240, 57.5000%, 63.7500%); display: inline-block\"></span><span style=\"width: 40px; height: 40px; background: hsl(240, 50.0000%, 67.5000%); display: inline-block\"></span><span style=\"width: 40px; height: 40px; background: hsl(240, 42.5000%, 71.2500%); display: inline-block\"></span><span style=\"width: 40px; height: 40px; background: hsl(80, 35.0000%, 35.0000%); display: inline-block\"></span><span style=\"width: 40px; height: 40px; background: hsl(80, 40.0000%, 37.5000%); display: inline-block\"></span><span style=\"width: 40px; height: 40px; background: hsl(80, 45.0000%, 40.0000%); display: inline-block\"></span><span style=\"width: 40px; height: 40px; background: hsl(80, 50.0000%, 42.5000%); display: inline-block\"></span><span style=\"width: 40px; height: 40px; background: hsl(80, 55.0000%, 45.0000%); display: inline-block\"></span><span style=\"width: 40px; height: 40px; background: hsl(80, 50.0000%, 52.5000%); display: inline-block\"></span><span style=\"width: 40px; height: 40px; background: hsl(80, 45.0000%, 60.0000%); display: inline-block\"></span><span style=\"width: 40px; height: 40px; background: hsl(80, 40.0000%, 67.5000%); display: inline-block\"></span><span style=\"width: 40px; height: 40px; background: hsl(40, 35.0000%, 35.0000%); display: inline-block\"></span><span style=\"width: 40px; height: 40px; background: hsl(41, 45.0000%, 37.5000%); display: inline-block\"></span><span style=\"width: 40px; height: 40px; background: hsl(42, 55.0000%, 40.0000%); display: inline-block\"></span><span style=\"width: 40px; height: 40px; background: hsl(44, 65.0000%, 42.5000%); display: inline-block\"></span><span style=\"width: 40px; height: 40px; background: hsl(45, 75.0000%, 45.0000%); display: inline-block\"></span><span style=\"width: 40px; height: 40px; background: hsl(44, 65.0000%, 52.5000%); display: inline-block\"></span><span style=\"width: 40px; height: 40px; background: hsl(42, 55.0000%, 60.0000%); display: inline-block\"></span><span style=\"width: 40px; height: 40px; background: hsl(41, 45.0000%, 67.5000%); display: inline-block\"></span><span style=\"width: 40px; height: 40px; background: hsl(0, 35.0000%, 35.0000%); display: inline-block\"></span><span style=\"width: 40px; height: 40px; background: hsl(0, 42.5000%, 40.0000%); display: inline-block\"></span><span style=\"width: 40px; height: 40px; background: hsl(0, 50.0000%, 45.0000%); display: inline-block\"></span><span style=\"width: 40px; height: 40px; background: hsl(0, 57.5000%, 50.0000%); display: inline-block\"></span><span style=\"width: 40px; height: 40px; background: hsl(0, 65.0000%, 55.0000%); display: inline-block\"></span><span style=\"width: 40px; height: 40px; background: hsl(0, 57.5000%, 60.0000%); display: inline-block\"></span><span style=\"width: 40px; height: 40px; background: hsl(0, 50.0000%, 65.0000%); display: inline-block\"></span><span style=\"width: 40px; height: 40px; background: hsl(0, 42.5000%, 70.0000%); display: inline-block\"></span><span style=\"width: 40px; height: 40px; background: hsl(300, 35.0000%, 35.0000%); display: inline-block\"></span><span style=\"width: 40px; height: 40px; background: hsl(300, 42.5000%, 38.7500%); display: inline-block\"></span><span style=\"width: 40px; height: 40px; background: hsl(300, 50.0000%, 42.5000%); display: inline-block\"></span><span style=\"width: 40px; height: 40px; background: hsl(300, 57.5000%, 46.2500%); display: inline-block\"></span><span style=\"width: 40px; height: 40px; background: hsl(300, 65.0000%, 50.0000%); display: inline-block\"></span><span style=\"width: 40px; height: 40px; background: hsl(300, 57.5000%, 56.2500%); display: inline-block\"></span><span style=\"width: 40px; height: 40px; background: hsl(300, 50.0000%, 62.5000%); display: inline-block\"></span><span style=\"width: 40px; height: 40px; background: hsl(300, 42.5000%, 68.7500%); display: inline-block\"></span><span style=\"width: 40px; height: 40px; background: hsl(0, 0.0000%, 85.0000%); display: inline-block\"></span><span style=\"width: 40px; height: 40px; background: hsl(0, 0.0000%, 85.0000%); display: inline-block\"></span><span style=\"width: 40px; height: 40px; background: hsl(0, 0.0000%, 85.0000%); display: inline-block\"></span><span style=\"width: 40px; height: 40px; background: hsl(0, 0.0000%, 85.0000%); display: inline-block\"></span><span style=\"width: 40px; height: 40px; background: hsl(0, 0.0000%, 85.0000%); display: inline-block\"></span></div>"
      ],
      "text/plain": [
       "['hsl(240, 35.00%, 35.00%)', 'hsl(240, 42.50%, 41.25%)', 'hsl(240, 50.00%, 47.50%)', 'hsl(240, 57.50%, 53.75%)', 'hsl(240, 65.00%, 60.00%)', 'hsl(240, 57.50%, 63.75%)', 'hsl(240, 50.00%, 67.50%)', 'hsl(240, 42.50%, 71.25%)', 'hsl(80, 35.00%, 35.00%)', 'hsl(80, 40.00%, 37.50%)', 'hsl(80, 45.00%, 40.00%)', 'hsl(80, 50.00%, 42.50%)', 'hsl(80, 55.00%, 45.00%)', 'hsl(80, 50.00%, 52.50%)', 'hsl(80, 45.00%, 60.00%)', 'hsl(80, 40.00%, 67.50%)', 'hsl(40, 35.00%, 35.00%)', 'hsl(41, 45.00%, 37.50%)', 'hsl(42, 55.00%, 40.00%)', 'hsl(44, 65.00%, 42.50%)', 'hsl(45, 75.00%, 45.00%)', 'hsl(44, 65.00%, 52.50%)', 'hsl(42, 55.00%, 60.00%)', 'hsl(41, 45.00%, 67.50%)', 'hsl(0, 35.00%, 35.00%)', 'hsl(0, 42.50%, 40.00%)', 'hsl(0, 50.00%, 45.00%)', 'hsl(0, 57.50%, 50.00%)', 'hsl(0, 65.00%, 55.00%)', 'hsl(0, 57.50%, 60.00%)', 'hsl(0, 50.00%, 65.00%)', 'hsl(0, 42.50%, 70.00%)', 'hsl(300, 35.00%, 35.00%)', 'hsl(300, 42.50%, 38.75%)', 'hsl(300, 50.00%, 42.50%)', 'hsl(300, 57.50%, 46.25%)', 'hsl(300, 65.00%, 50.00%)', 'hsl(300, 57.50%, 56.25%)', 'hsl(300, 50.00%, 62.50%)', 'hsl(300, 42.50%, 68.75%)', 'hsl(0, 0.00%, 85.00%)', 'hsl(0, 0.00%, 85.00%)', 'hsl(0, 0.00%, 85.00%)', 'hsl(0, 0.00%, 85.00%)', 'hsl(0, 0.00%, 85.00%)']"
      ]
     },
     "execution_count": 540,
     "metadata": {},
     "output_type": "execute_result"
    }
   ],
   "source": [
    "import math\n",
    "\n",
    "BASES_BGYRP = [\n",
    "        [(240,.35,.35),(240,.65,.60),(240,.35,.75)],\n",
    "        [(80,.35,.35),(80,.55,.45),(80,.35,.75)],\n",
    "        [(40,.35,.35),(45,.75,.45),(40,.35,.75)],\n",
    "        [(0,.35,.35),(0,.65,.55),(0,.35,.75)],\n",
    "        [(300,.35,.35),(300,.65,.50),(300,.35,.75)],\n",
    "    ]\n",
    "\n",
    "\n",
    "\n",
    "\n",
    "def frhsl(n, end=10.0, bases=BASES_BGYRP):\n",
    "    [under, excess] = [(0,.0,.35), (0,.0,.85)]\n",
    "    \n",
    "    n = n/end*10.0\n",
    "    \n",
    "    if n >= 10.0:\n",
    "        return excess\n",
    "    \n",
    "    cat = int(n//2)\n",
    "    sub = (n)%1\n",
    "    if n/2%1 < 0.5:\n",
    "        a = bases[cat][0]\n",
    "        b = bases[cat][1]\n",
    "    else:\n",
    "        a = bases[cat][1]\n",
    "        b = bases[cat][2]\n",
    "\n",
    "    ca = 1-sub\n",
    "    cb = sub\n",
    "    \n",
    "    final = (\n",
    "        ca * a[0] + cb * b[0],\n",
    "        ca * a[1] + cb * b[1],\n",
    "        ca * a[2] + cb * b[2]\n",
    "    )\n",
    "    return final\n",
    "\n",
    "def frch(n, end=10.0):\n",
    "    return \n",
    "\n",
    "1e8\n",
    "\n",
    "it = list([x for x in range (0,900,20)])\n",
    "print(it)\n",
    "\n",
    "#print([frhsl(x) for x in it])\n",
    "ColorDivs([frhsl(x, 800) for x in it], 40)\n",
    "\n"
   ]
  },
  {
   "cell_type": "code",
   "execution_count": 389,
   "metadata": {},
   "outputs": [
    {
     "data": {
      "text/plain": [
       "(240.0, 0.65, 0.6)"
      ]
     },
     "execution_count": 389,
     "metadata": {},
     "output_type": "execute_result"
    }
   ],
   "source": [
    "frhsl(1)"
   ]
  },
  {
   "cell_type": "code",
   "execution_count": 448,
   "metadata": {},
   "outputs": [
    {
     "data": {
      "text/html": [
       "<svg width=\"900\" height=\"90\" xmlns=\"http://www.w3.org/2000/svg\"><path d=\"M 0 0 L 0 90 L 900 90 L 900 0 Z\"fill=\"hsl(0, 0.0000%, 35.0000%)\"/><path d=\"M 0.0 0 L 0.0 90 L 0.0678 90 L 0.0678 0 Z\"fill=\"hsl(0, 0.0000%, 85.0000%)\"/><path d=\"M 0.0678 0 L 0.0678 90 L 0.13529999999999998 90 L 0.13529999999999998 0 Z\"fill=\"hsl(300, 42.5000%, 68.7500%)\"/><path d=\"M 0.13529999999999998 0 L 0.13529999999999998 90 L 0.18569999999999998 90 L 0.18569999999999998 0 Z\"fill=\"hsl(300, 50.0000%, 62.5000%)\"/><path d=\"M 0.18569999999999998 0 L 0.18569999999999998 90 L 0.3414 90 L 0.3414 0 Z\"fill=\"hsl(300, 57.5000%, 56.2500%)\"/><path d=\"M 0.3414 0 L 0.3414 90 L 0.8474999999999999 90 L 0.8474999999999999 0 Z\"fill=\"hsl(300, 57.5000%, 46.2500%)\"/><path d=\"M 0.8474999999999999 0 L 0.8474999999999999 90 L 2.4113999999999995 90 L 2.4113999999999995 0 Z\"fill=\"hsl(300, 50.0000%, 42.5000%)\"/><path d=\"M 2.4113999999999995 0 L 2.4113999999999995 90 L 23.359199999999998 90 L 23.359199999999998 0 Z\"fill=\"hsl(300, 42.5000%, 38.7500%)\"/><path d=\"M 23.359199999999998 0 L 23.359199999999998 90 L 33.5958 90 L 33.5958 0 Z\"fill=\"hsl(300, 35.0000%, 35.0000%)\"/><path d=\"M 33.5958 0 L 33.5958 90 L 59.8215 90 L 59.8215 0 Z\"fill=\"hsl(0, 42.5000%, 70.0000%)\"/><path d=\"M 59.8215 0 L 59.8215 90 L 99.5301 90 L 99.5301 0 Z\"fill=\"hsl(0, 50.0000%, 65.0000%)\"/><path d=\"M 99.5301 0 L 99.5301 90 L 161.73540000000003 90 L 161.73540000000003 0 Z\"fill=\"hsl(0, 57.5000%, 60.0000%)\"/><path d=\"M 161.73540000000003 0 L 161.73540000000003 90 L 332.14290000000005 90 L 332.14290000000005 0 Z\"fill=\"hsl(0, 65.0000%, 55.0000%)\"/><path d=\"M 332.14290000000005 0 L 332.14290000000005 90 L 515.4045000000001 90 L 515.4045000000001 0 Z\"fill=\"hsl(0, 57.5000%, 50.0000%)\"/><path d=\"M 515.4045000000001 0 L 515.4045000000001 90 L 527.1417000000001 90 L 527.1417000000001 0 Z\"fill=\"hsl(0, 50.0000%, 45.0000%)\"/><path d=\"M 527.1417000000001 0 L 527.1417000000001 90 L 537.3174000000001 90 L 537.3174000000001 0 Z\"fill=\"hsl(0, 42.5000%, 40.0000%)\"/><path d=\"M 537.3174000000001 0 L 537.3174000000001 90 L 597.2469000000001 90 L 597.2469000000001 0 Z\"fill=\"hsl(0, 35.0000%, 35.0000%)\"/><path d=\"M 597.2469000000001 0 L 597.2469000000001 90 L 624.3783000000001 90 L 624.3783000000001 0 Z\"fill=\"hsl(41, 45.0000%, 67.5000%)\"/><path d=\"M 624.3783000000001 0 L 624.3783000000001 90 L 654.4167000000001 90 L 654.4167000000001 0 Z\"fill=\"hsl(42, 55.0000%, 60.0000%)\"/><path d=\"M 654.4167000000001 0 L 654.4167000000001 90 L 666.6123000000001 90 L 666.6123000000001 0 Z\"fill=\"hsl(44, 65.0000%, 52.5000%)\"/><path d=\"M 666.6123000000001 0 L 666.6123000000001 90 L 695.6190000000001 90 L 695.6190000000001 0 Z\"fill=\"hsl(45, 75.0000%, 45.0000%)\"/><path d=\"M 695.6190000000001 0 L 695.6190000000001 90 L 746.8443000000001 90 L 746.8443000000001 0 Z\"fill=\"hsl(44, 65.0000%, 42.5000%)\"/><path d=\"M 746.8443000000001 0 L 746.8443000000001 90 L 900.0000000000001 90 L 900.0000000000001 0 Z\"fill=\"hsl(42, 55.0000%, 40.0000%)\"/><line x1=\"180.0\" y1=\"0\" x2=\"180.0\" y2=\"90\" stroke-dasharray=\"5,5\" stroke-width=\"2\" stroke=\"grey\"/><line x1=\"360.0\" y1=\"0\" x2=\"360.0\" y2=\"90\" stroke-dasharray=\"5,5\" stroke-width=\"2\" stroke=\"grey\"/><line x1=\"540.0\" y1=\"0\" x2=\"540.0\" y2=\"90\" stroke-dasharray=\"5,5\" stroke-width=\"2\" stroke=\"grey\"/><line x1=\"720.0\" y1=\"0\" x2=\"720.0\" y2=\"90\" stroke-dasharray=\"5,5\" stroke-width=\"2\" stroke=\"grey\"/></svg>"
      ],
      "text/plain": [
       "<__main__.CryptoBar at 0x7fdc0e5ce7b8>"
      ]
     },
     "execution_count": 448,
     "metadata": {},
     "output_type": "execute_result"
    }
   ],
   "source": [
    "class CryptoBar():\n",
    "    \n",
    "    def __init__(self, series, size=1.0, splits=9):\n",
    "        self.series = series\n",
    "        self.size = size\n",
    "        self.splits = splits\n",
    "    \n",
    "    def _repr_html_(self):\n",
    "        elms=[]\n",
    "\n",
    "        m = 900\n",
    "        h = 90\n",
    "\n",
    "        elms.append(f'<svg width=\"{m}\" height=\"{h}\" xmlns=\"http://www.w3.org/2000/svg\">')\n",
    "        \n",
    "        #empty\n",
    "        fill = f'hsl({0:.0f}, {0 * 100:.4f}%, {35:.4f}%)'\n",
    "        d = f'M {0} {0} L {0} {h} L {m} {h} L {m} 0 Z'\n",
    "        elms.append(f'<path d=\"{d}\"fill=\"{fill}\"/>')\n",
    "        \n",
    "        \n",
    "        ratio = m/self.size\n",
    "        start = 0.0\n",
    "        for n, v in self.series.items():\n",
    "            if v == 0.0:\n",
    "                continue\n",
    "            color = frhsl(n, 800)\n",
    "            fill = f'hsl({color[0]:.0f}, {color[1] * 100:.4f}%, {color[2] * 100:.4f}%)'\n",
    "            d = f'M {start} 0 L {start} {h} L {start+ratio*v} {h} L {start+ratio*v} 0 Z'\n",
    "            elms.append(f'<path d=\"{d}\"fill=\"{fill}\"/>')\n",
    "            start += ratio*v\n",
    "        \n",
    "        for i in range(1,self.splits):\n",
    "            elms.append(f'<line x1=\"{i*m/self.splits}\" y1=\"0\" x2=\"{i*m/self.splits}\" y2=\"{h}\" stroke-dasharray=\"5,5\" stroke-width=\"2\" stroke=\"grey\"/>')\n",
    "            \n",
    "        elms.append(f'</svg>')\n",
    "        return ''.join(elms)\n",
    "\n",
    "CryptoBar(df_top2[0], 1, 5)"
   ]
  },
  {
   "cell_type": "code",
   "execution_count": 494,
   "metadata": {},
   "outputs": [
    {
     "data": {
      "text/html": [
       "<svg width=\"900\" height=\"90\" xmlns=\"http://www.w3.org/2000/svg\"><path d=\"M 0 0 L 0 90 L 900 90 L 900 0 Z\"fill=\"hsl(0, 0.0000%, 35.0000%)\"/><path d=\"M 0.0 0 L 0.0 90 L 51.64829999999992 90 L 51.64829999999992 0 Z\"fill=\"hsl(42, 55.0000%, 40.0000%)\"/><path d=\"M 51.64829999999992 0 L 51.64829999999992 90 L 55.38629999999992 90 L 55.38629999999992 0 Z\"fill=\"hsl(41, 45.0000%, 37.5000%)\"/><path d=\"M 55.38629999999992 0 L 55.38629999999992 90 L 58.08509999999992 90 L 58.08509999999992 0 Z\"fill=\"hsl(40, 35.0000%, 35.0000%)\"/><path d=\"M 58.08509999999992 0 L 58.08509999999992 90 L 58.75199999999992 90 L 58.75199999999992 0 Z\"fill=\"hsl(80, 40.0000%, 67.5000%)\"/><path d=\"M 58.75199999999992 0 L 58.75199999999992 90 L 61.667999999999914 90 L 61.667999999999914 0 Z\"fill=\"hsl(80, 55.0000%, 45.0000%)\"/><path d=\"M 61.667999999999914 0 L 61.667999999999914 90 L 64.65659999999991 90 L 64.65659999999991 0 Z\"fill=\"hsl(80, 50.0000%, 42.5000%)\"/><path d=\"M 64.65659999999991 0 L 64.65659999999991 90 L 64.7582999999999 90 L 64.7582999999999 0 Z\"fill=\"hsl(80, 45.0000%, 40.0000%)\"/><path d=\"M 64.7582999999999 0 L 64.7582999999999 90 L 64.9400999999999 90 L 64.9400999999999 0 Z\"fill=\"hsl(80, 35.0000%, 35.0000%)\"/><path d=\"M 64.9400999999999 0 L 64.9400999999999 90 L 64.9976999999999 90 L 64.9976999999999 0 Z\"fill=\"hsl(240, 57.5000%, 63.7500%)\"/><path d=\"M 64.9976999999999 0 L 64.9976999999999 90 L 65.0549999999999 90 L 65.0549999999999 0 Z\"fill=\"hsl(240, 65.0000%, 60.0000%)\"/><line x1=\"180.0\" y1=\"0\" x2=\"180.0\" y2=\"90\" stroke-dasharray=\"5,5\" stroke-width=\"2\" stroke=\"grey\"/><line x1=\"360.0\" y1=\"0\" x2=\"360.0\" y2=\"90\" stroke-dasharray=\"5,5\" stroke-width=\"2\" stroke=\"grey\"/><line x1=\"540.0\" y1=\"0\" x2=\"540.0\" y2=\"90\" stroke-dasharray=\"5,5\" stroke-width=\"2\" stroke=\"grey\"/><line x1=\"720.0\" y1=\"0\" x2=\"720.0\" y2=\"90\" stroke-dasharray=\"5,5\" stroke-width=\"2\" stroke=\"grey\"/></svg>"
      ],
      "text/plain": [
       "<__main__.CryptoBar at 0x7fdc0e803cf8>"
      ]
     },
     "execution_count": 494,
     "metadata": {},
     "output_type": "execute_result"
    }
   ],
   "source": [
    "CryptoBar(df_top2[1], 1, 5)"
   ]
  },
  {
   "cell_type": "markdown",
   "metadata": {},
   "source": [
    "## Mempool"
   ]
  },
  {
   "cell_type": "code",
   "execution_count": 456,
   "metadata": {
    "scrolled": true
   },
   "outputs": [
    {
     "data": {
      "text/html": [
       "<svg width=\"900\" height=\"90\" xmlns=\"http://www.w3.org/2000/svg\"><path d=\"M 0 0 L 0 90 L 900 90 L 900 0 Z\"fill=\"hsl(0, 0.0000%, 35.0000%)\"/><path d=\"M 0.0 0 L 0.0 90 L 0.057499999999999996 90 L 0.057499999999999996 0 Z\"fill=\"hsl(0, 0.0000%, 85.0000%)\"/><path d=\"M 0.057499999999999996 0 L 0.057499999999999996 90 L 0.0766 90 L 0.0766 0 Z\"fill=\"hsl(300, 57.5000%, 46.2500%)\"/><path d=\"M 0.0766 0 L 0.0766 90 L 0.09570000000000001 90 L 0.09570000000000001 0 Z\"fill=\"hsl(300, 50.0000%, 42.5000%)\"/><path d=\"M 0.09570000000000001 0 L 0.09570000000000001 90 L 0.27270000000000005 90 L 0.27270000000000005 0 Z\"fill=\"hsl(300, 35.0000%, 35.0000%)\"/><path d=\"M 0.27270000000000005 0 L 0.27270000000000005 90 L 1.7538 90 L 1.7538 0 Z\"fill=\"hsl(0, 42.5000%, 70.0000%)\"/><path d=\"M 1.7538 0 L 1.7538 90 L 2.743 90 L 2.743 0 Z\"fill=\"hsl(0, 50.0000%, 65.0000%)\"/><path d=\"M 2.743 0 L 2.743 90 L 5.7059999999999995 90 L 5.7059999999999995 0 Z\"fill=\"hsl(0, 57.5000%, 60.0000%)\"/><path d=\"M 5.7059999999999995 0 L 5.7059999999999995 90 L 6.473299999999999 90 L 6.473299999999999 0 Z\"fill=\"hsl(0, 65.0000%, 55.0000%)\"/><path d=\"M 6.473299999999999 0 L 6.473299999999999 90 L 8.0709 90 L 8.0709 0 Z\"fill=\"hsl(0, 57.5000%, 50.0000%)\"/><path d=\"M 8.0709 0 L 8.0709 90 L 8.7974 90 L 8.7974 0 Z\"fill=\"hsl(0, 50.0000%, 45.0000%)\"/><path d=\"M 8.7974 0 L 8.7974 90 L 10.5059 90 L 10.5059 0 Z\"fill=\"hsl(0, 42.5000%, 40.0000%)\"/><path d=\"M 10.5059 0 L 10.5059 90 L 14.557500000000001 90 L 14.557500000000001 0 Z\"fill=\"hsl(0, 35.0000%, 35.0000%)\"/><path d=\"M 14.557500000000001 0 L 14.557500000000001 90 L 17.6719 90 L 17.6719 0 Z\"fill=\"hsl(41, 45.0000%, 67.5000%)\"/><path d=\"M 17.6719 0 L 17.6719 90 L 20.7454 90 L 20.7454 0 Z\"fill=\"hsl(42, 55.0000%, 60.0000%)\"/><path d=\"M 20.7454 0 L 20.7454 90 L 32.6221 90 L 32.6221 0 Z\"fill=\"hsl(44, 65.0000%, 52.5000%)\"/><path d=\"M 32.6221 0 L 32.6221 90 L 53.86150000000001 90 L 53.86150000000001 0 Z\"fill=\"hsl(45, 75.0000%, 45.0000%)\"/><path d=\"M 53.86150000000001 0 L 53.86150000000001 90 L 116.84440000000001 90 L 116.84440000000001 0 Z\"fill=\"hsl(44, 65.0000%, 42.5000%)\"/><path d=\"M 116.84440000000001 0 L 116.84440000000001 90 L 296.1137 90 L 296.1137 0 Z\"fill=\"hsl(42, 55.0000%, 40.0000%)\"/><path d=\"M 296.1137 0 L 296.1137 90 L 772.4861 90 L 772.4861 0 Z\"fill=\"hsl(41, 45.0000%, 37.5000%)\"/><path d=\"M 772.4861 0 L 772.4861 90 L 900.0000000000002 90 L 900.0000000000002 0 Z\"fill=\"hsl(40, 35.0000%, 35.0000%)\"/><line x1=\"100.0\" y1=\"0\" x2=\"100.0\" y2=\"90\" stroke-dasharray=\"5,5\" stroke-width=\"2\" stroke=\"grey\"/><line x1=\"200.0\" y1=\"0\" x2=\"200.0\" y2=\"90\" stroke-dasharray=\"5,5\" stroke-width=\"2\" stroke=\"grey\"/><line x1=\"300.0\" y1=\"0\" x2=\"300.0\" y2=\"90\" stroke-dasharray=\"5,5\" stroke-width=\"2\" stroke=\"grey\"/><line x1=\"400.0\" y1=\"0\" x2=\"400.0\" y2=\"90\" stroke-dasharray=\"5,5\" stroke-width=\"2\" stroke=\"grey\"/><line x1=\"500.0\" y1=\"0\" x2=\"500.0\" y2=\"90\" stroke-dasharray=\"5,5\" stroke-width=\"2\" stroke=\"grey\"/><line x1=\"600.0\" y1=\"0\" x2=\"600.0\" y2=\"90\" stroke-dasharray=\"5,5\" stroke-width=\"2\" stroke=\"grey\"/><line x1=\"700.0\" y1=\"0\" x2=\"700.0\" y2=\"90\" stroke-dasharray=\"5,5\" stroke-width=\"2\" stroke=\"grey\"/><line x1=\"800.0\" y1=\"0\" x2=\"800.0\" y2=\"90\" stroke-dasharray=\"5,5\" stroke-width=\"2\" stroke=\"grey\"/></svg>"
      ],
      "text/plain": [
       "<__main__.CryptoBar at 0x7fdc0f39cfd0>"
      ]
     },
     "execution_count": 456,
     "metadata": {},
     "output_type": "execute_result"
    }
   ],
   "source": [
    "CryptoBar(df_top4_9[0], 9, 9)"
   ]
  },
  {
   "cell_type": "code",
   "execution_count": 451,
   "metadata": {},
   "outputs": [
    {
     "data": {
      "text/html": [
       "<svg width=\"900\" height=\"90\" xmlns=\"http://www.w3.org/2000/svg\"><path d=\"M 0 0 L 0 90 L 900 90 L 900 0 Z\"fill=\"hsl(0, 0.0000%, 35.0000%)\"/><path d=\"M 0.0 0 L 0.0 90 L 900.0 90 L 900.0 0 Z\"fill=\"hsl(40, 35.0000%, 35.0000%)\"/><line x1=\"100.0\" y1=\"0\" x2=\"100.0\" y2=\"90\" stroke-dasharray=\"5,5\" stroke-width=\"2\" stroke=\"grey\"/><line x1=\"200.0\" y1=\"0\" x2=\"200.0\" y2=\"90\" stroke-dasharray=\"5,5\" stroke-width=\"2\" stroke=\"grey\"/><line x1=\"300.0\" y1=\"0\" x2=\"300.0\" y2=\"90\" stroke-dasharray=\"5,5\" stroke-width=\"2\" stroke=\"grey\"/><line x1=\"400.0\" y1=\"0\" x2=\"400.0\" y2=\"90\" stroke-dasharray=\"5,5\" stroke-width=\"2\" stroke=\"grey\"/><line x1=\"500.0\" y1=\"0\" x2=\"500.0\" y2=\"90\" stroke-dasharray=\"5,5\" stroke-width=\"2\" stroke=\"grey\"/><line x1=\"600.0\" y1=\"0\" x2=\"600.0\" y2=\"90\" stroke-dasharray=\"5,5\" stroke-width=\"2\" stroke=\"grey\"/><line x1=\"700.0\" y1=\"0\" x2=\"700.0\" y2=\"90\" stroke-dasharray=\"5,5\" stroke-width=\"2\" stroke=\"grey\"/><line x1=\"800.0\" y1=\"0\" x2=\"800.0\" y2=\"90\" stroke-dasharray=\"5,5\" stroke-width=\"2\" stroke=\"grey\"/></svg>"
      ],
      "text/plain": [
       "<__main__.CryptoBar at 0x7fdc0f3ab5c0>"
      ]
     },
     "execution_count": 451,
     "metadata": {},
     "output_type": "execute_result"
    }
   ],
   "source": [
    "CryptoBar(df_top4_9[1], 9, 9)"
   ]
  },
  {
   "cell_type": "code",
   "execution_count": 452,
   "metadata": {},
   "outputs": [
    {
     "data": {
      "text/html": [
       "<svg width=\"900\" height=\"90\" xmlns=\"http://www.w3.org/2000/svg\"><path d=\"M 0 0 L 0 90 L 900 90 L 900 0 Z\"fill=\"hsl(0, 0.0000%, 35.0000%)\"/><path d=\"M 0.0 0 L 0.0 90 L 47.70059999999994 90 L 47.70059999999994 0 Z\"fill=\"hsl(40, 35.0000%, 35.0000%)\"/><path d=\"M 47.70059999999994 0 L 47.70059999999994 90 L 900.0 90 L 900.0 0 Z\"fill=\"hsl(80, 40.0000%, 67.5000%)\"/><line x1=\"100.0\" y1=\"0\" x2=\"100.0\" y2=\"90\" stroke-dasharray=\"5,5\" stroke-width=\"2\" stroke=\"grey\"/><line x1=\"200.0\" y1=\"0\" x2=\"200.0\" y2=\"90\" stroke-dasharray=\"5,5\" stroke-width=\"2\" stroke=\"grey\"/><line x1=\"300.0\" y1=\"0\" x2=\"300.0\" y2=\"90\" stroke-dasharray=\"5,5\" stroke-width=\"2\" stroke=\"grey\"/><line x1=\"400.0\" y1=\"0\" x2=\"400.0\" y2=\"90\" stroke-dasharray=\"5,5\" stroke-width=\"2\" stroke=\"grey\"/><line x1=\"500.0\" y1=\"0\" x2=\"500.0\" y2=\"90\" stroke-dasharray=\"5,5\" stroke-width=\"2\" stroke=\"grey\"/><line x1=\"600.0\" y1=\"0\" x2=\"600.0\" y2=\"90\" stroke-dasharray=\"5,5\" stroke-width=\"2\" stroke=\"grey\"/><line x1=\"700.0\" y1=\"0\" x2=\"700.0\" y2=\"90\" stroke-dasharray=\"5,5\" stroke-width=\"2\" stroke=\"grey\"/><line x1=\"800.0\" y1=\"0\" x2=\"800.0\" y2=\"90\" stroke-dasharray=\"5,5\" stroke-width=\"2\" stroke=\"grey\"/></svg>"
      ],
      "text/plain": [
       "<__main__.CryptoBar at 0x7fdc0e5f8e10>"
      ]
     },
     "execution_count": 452,
     "metadata": {},
     "output_type": "execute_result"
    }
   ],
   "source": [
    "CryptoBar(df_top4_9[2], 9, 9)"
   ]
  },
  {
   "cell_type": "code",
   "execution_count": 453,
   "metadata": {},
   "outputs": [
    {
     "data": {
      "text/html": [
       "<svg width=\"900\" height=\"90\" xmlns=\"http://www.w3.org/2000/svg\"><path d=\"M 0 0 L 0 90 L 900 90 L 900 0 Z\"fill=\"hsl(0, 0.0000%, 35.0000%)\"/><path d=\"M 0.0 0 L 0.0 90 L 640.5486999999999 90 L 640.5486999999999 0 Z\"fill=\"hsl(80, 40.0000%, 67.5000%)\"/><path d=\"M 640.5486999999999 0 L 640.5486999999999 90 L 900.0 90 L 900.0 0 Z\"fill=\"hsl(80, 45.0000%, 60.0000%)\"/><line x1=\"100.0\" y1=\"0\" x2=\"100.0\" y2=\"90\" stroke-dasharray=\"5,5\" stroke-width=\"2\" stroke=\"grey\"/><line x1=\"200.0\" y1=\"0\" x2=\"200.0\" y2=\"90\" stroke-dasharray=\"5,5\" stroke-width=\"2\" stroke=\"grey\"/><line x1=\"300.0\" y1=\"0\" x2=\"300.0\" y2=\"90\" stroke-dasharray=\"5,5\" stroke-width=\"2\" stroke=\"grey\"/><line x1=\"400.0\" y1=\"0\" x2=\"400.0\" y2=\"90\" stroke-dasharray=\"5,5\" stroke-width=\"2\" stroke=\"grey\"/><line x1=\"500.0\" y1=\"0\" x2=\"500.0\" y2=\"90\" stroke-dasharray=\"5,5\" stroke-width=\"2\" stroke=\"grey\"/><line x1=\"600.0\" y1=\"0\" x2=\"600.0\" y2=\"90\" stroke-dasharray=\"5,5\" stroke-width=\"2\" stroke=\"grey\"/><line x1=\"700.0\" y1=\"0\" x2=\"700.0\" y2=\"90\" stroke-dasharray=\"5,5\" stroke-width=\"2\" stroke=\"grey\"/><line x1=\"800.0\" y1=\"0\" x2=\"800.0\" y2=\"90\" stroke-dasharray=\"5,5\" stroke-width=\"2\" stroke=\"grey\"/></svg>"
      ],
      "text/plain": [
       "<__main__.CryptoBar at 0x7fdc0e5f8080>"
      ]
     },
     "execution_count": 453,
     "metadata": {},
     "output_type": "execute_result"
    }
   ],
   "source": [
    "CryptoBar(df_top4_9[3], 9, 9)"
   ]
  },
  {
   "cell_type": "code",
   "execution_count": 454,
   "metadata": {},
   "outputs": [
    {
     "ename": "AttributeError",
     "evalue": "'Series' object has no attribute 'iatems'",
     "output_type": "error",
     "traceback": [
      "\u001b[0;31m---------------------------------------------------------------------------\u001b[0m",
      "\u001b[0;31mAttributeError\u001b[0m                            Traceback (most recent call last)",
      "\u001b[0;32m<ipython-input-454-dc43a5227e8b>\u001b[0m in \u001b[0;36m<module>\u001b[0;34m()\u001b[0m\n\u001b[0;32m----> 1\u001b[0;31m \u001b[0;32mfor\u001b[0m \u001b[0mn\u001b[0m\u001b[0;34m,\u001b[0m\u001b[0mv\u001b[0m \u001b[0;32min\u001b[0m \u001b[0mmvs\u001b[0m\u001b[0;34m.\u001b[0m\u001b[0miatems\u001b[0m\u001b[0;34m(\u001b[0m\u001b[0;34m)\u001b[0m\u001b[0;34m:\u001b[0m\u001b[0;34m\u001b[0m\u001b[0m\n\u001b[0m\u001b[1;32m      2\u001b[0m     \u001b[0mprint\u001b[0m\u001b[0;34m(\u001b[0m\u001b[0mn\u001b[0m\u001b[0;34m,\u001b[0m\u001b[0mv\u001b[0m\u001b[0;34m)\u001b[0m\u001b[0;34m\u001b[0m\u001b[0m\n",
      "\u001b[0;32m/usr/local/lib/python3.6/site-packages/pandas/core/generic.py\u001b[0m in \u001b[0;36m__getattr__\u001b[0;34m(self, name)\u001b[0m\n\u001b[1;32m   3612\u001b[0m             \u001b[0;32mif\u001b[0m \u001b[0mname\u001b[0m \u001b[0;32min\u001b[0m \u001b[0mself\u001b[0m\u001b[0;34m.\u001b[0m\u001b[0m_info_axis\u001b[0m\u001b[0;34m:\u001b[0m\u001b[0;34m\u001b[0m\u001b[0m\n\u001b[1;32m   3613\u001b[0m                 \u001b[0;32mreturn\u001b[0m \u001b[0mself\u001b[0m\u001b[0;34m[\u001b[0m\u001b[0mname\u001b[0m\u001b[0;34m]\u001b[0m\u001b[0;34m\u001b[0m\u001b[0m\n\u001b[0;32m-> 3614\u001b[0;31m             \u001b[0;32mreturn\u001b[0m \u001b[0mobject\u001b[0m\u001b[0;34m.\u001b[0m\u001b[0m__getattribute__\u001b[0m\u001b[0;34m(\u001b[0m\u001b[0mself\u001b[0m\u001b[0;34m,\u001b[0m \u001b[0mname\u001b[0m\u001b[0;34m)\u001b[0m\u001b[0;34m\u001b[0m\u001b[0m\n\u001b[0m\u001b[1;32m   3615\u001b[0m \u001b[0;34m\u001b[0m\u001b[0m\n\u001b[1;32m   3616\u001b[0m     \u001b[0;32mdef\u001b[0m \u001b[0m__setattr__\u001b[0m\u001b[0;34m(\u001b[0m\u001b[0mself\u001b[0m\u001b[0;34m,\u001b[0m \u001b[0mname\u001b[0m\u001b[0;34m,\u001b[0m \u001b[0mvalue\u001b[0m\u001b[0;34m)\u001b[0m\u001b[0;34m:\u001b[0m\u001b[0;34m\u001b[0m\u001b[0m\n",
      "\u001b[0;31mAttributeError\u001b[0m: 'Series' object has no attribute 'iatems'"
     ]
    }
   ],
   "source": [
    "for n,v in mvs.iatems():\n",
    "    print(n,v)"
   ]
  },
  {
   "cell_type": "code",
   "execution_count": 382,
   "metadata": {},
   "outputs": [
    {
     "data": {
      "text/plain": [
       "['hsl(0, 0.00%, 85.00%)',\n",
       " 'hsl(0, 0.00%, 85.00%)',\n",
       " 'hsl(0, 0.00%, 85.00%)',\n",
       " 'hsl(0, 0.00%, 85.00%)',\n",
       " 'hsl(0, 0.00%, 85.00%)',\n",
       " 'hsl(300, 42.50%, 68.75%)',\n",
       " 'hsl(300, 50.00%, 62.50%)',\n",
       " 'hsl(300, 57.50%, 56.25%)',\n",
       " 'hsl(300, 65.00%, 50.00%)',\n",
       " 'hsl(300, 57.50%, 46.25%)',\n",
       " 'hsl(300, 50.00%, 42.50%)',\n",
       " 'hsl(300, 42.50%, 38.75%)',\n",
       " 'hsl(300, 35.00%, 35.00%)',\n",
       " 'hsl(0, 42.50%, 70.00%)',\n",
       " 'hsl(0, 50.00%, 65.00%)',\n",
       " 'hsl(0, 57.50%, 60.00%)',\n",
       " 'hsl(0, 65.00%, 55.00%)',\n",
       " 'hsl(0, 57.50%, 50.00%)',\n",
       " 'hsl(0, 50.00%, 45.00%)',\n",
       " 'hsl(0, 42.50%, 40.00%)',\n",
       " 'hsl(0, 35.00%, 35.00%)',\n",
       " 'hsl(41, 45.00%, 67.50%)',\n",
       " 'hsl(42, 55.00%, 60.00%)',\n",
       " 'hsl(44, 65.00%, 52.50%)',\n",
       " 'hsl(45, 75.00%, 45.00%)',\n",
       " 'hsl(44, 65.00%, 42.50%)',\n",
       " 'hsl(42, 55.00%, 40.00%)',\n",
       " 'hsl(41, 45.00%, 37.50%)',\n",
       " 'hsl(40, 35.00%, 35.00%)',\n",
       " 'hsl(80, 40.00%, 67.50%)',\n",
       " 'hsl(80, 45.00%, 60.00%)',\n",
       " 'hsl(80, 50.00%, 52.50%)',\n",
       " 'hsl(80, 55.00%, 45.00%)',\n",
       " 'hsl(80, 50.00%, 42.50%)',\n",
       " 'hsl(80, 45.00%, 40.00%)',\n",
       " 'hsl(80, 40.00%, 37.50%)',\n",
       " 'hsl(80, 35.00%, 35.00%)',\n",
       " 'hsl(240, 42.50%, 71.25%)',\n",
       " 'hsl(240, 50.00%, 67.50%)',\n",
       " 'hsl(240, 57.50%, 63.75%)',\n",
       " 'hsl(240, 65.00%, 60.00%)',\n",
       " 'hsl(240, 57.50%, 53.75%)',\n",
       " 'hsl(240, 50.00%, 47.50%)',\n",
       " 'hsl(240, 42.50%, 41.25%)',\n",
       " 'hsl(240, 35.00%, 35.00%)']"
      ]
     },
     "execution_count": 382,
     "metadata": {},
     "output_type": "execute_result"
    }
   ],
   "source": [
    "list(reversed(['hsl(240, 35.00%, 35.00%)', 'hsl(240, 42.50%, 41.25%)', 'hsl(240, 50.00%, 47.50%)', 'hsl(240, 57.50%, 53.75%)', 'hsl(240, 65.00%, 60.00%)', 'hsl(240, 57.50%, 63.75%)', 'hsl(240, 50.00%, 67.50%)', 'hsl(240, 42.50%, 71.25%)', 'hsl(80, 35.00%, 35.00%)', 'hsl(80, 40.00%, 37.50%)', 'hsl(80, 45.00%, 40.00%)', 'hsl(80, 50.00%, 42.50%)', 'hsl(80, 55.00%, 45.00%)', 'hsl(80, 50.00%, 52.50%)', 'hsl(80, 45.00%, 60.00%)', 'hsl(80, 40.00%, 67.50%)', 'hsl(40, 35.00%, 35.00%)', 'hsl(41, 45.00%, 37.50%)', 'hsl(42, 55.00%, 40.00%)', 'hsl(44, 65.00%, 42.50%)', 'hsl(45, 75.00%, 45.00%)', 'hsl(44, 65.00%, 52.50%)', 'hsl(42, 55.00%, 60.00%)', 'hsl(41, 45.00%, 67.50%)', 'hsl(0, 35.00%, 35.00%)', 'hsl(0, 42.50%, 40.00%)', 'hsl(0, 50.00%, 45.00%)', 'hsl(0, 57.50%, 50.00%)', 'hsl(0, 65.00%, 55.00%)', 'hsl(0, 57.50%, 60.00%)', 'hsl(0, 50.00%, 65.00%)', 'hsl(0, 42.50%, 70.00%)', 'hsl(300, 35.00%, 35.00%)', 'hsl(300, 42.50%, 38.75%)', 'hsl(300, 50.00%, 42.50%)', 'hsl(300, 57.50%, 46.25%)', 'hsl(300, 65.00%, 50.00%)', 'hsl(300, 57.50%, 56.25%)', 'hsl(300, 50.00%, 62.50%)', 'hsl(300, 42.50%, 68.75%)', 'hsl(0, 0.00%, 85.00%)', 'hsl(0, 0.00%, 85.00%)', 'hsl(0, 0.00%, 85.00%)', 'hsl(0, 0.00%, 85.00%)', 'hsl(0, 0.00%, 85.00%)']))"
   ]
  },
  {
   "cell_type": "code",
   "execution_count": 386,
   "metadata": {},
   "outputs": [],
   "source": [
    "from typing import Optional, Sequence\n",
    "\n",
    "class Address:\n",
    "    street: str\n",
    "    housenumber: int\n",
    "    housenumber_postfix: Optional[str]\n",
    "    foo: pd.DataFrame\n",
    "\n"
   ]
  },
  {
   "cell_type": "code",
   "execution_count": 395,
   "metadata": {},
   "outputs": [
    {
     "data": {
      "text/plain": [
       "800    0.000000\n",
       "780    0.000161\n",
       "760    0.000000\n",
       "740    0.000000\n",
       "720    0.000316\n",
       "700    0.000876\n",
       "680    0.002277\n",
       "660    0.001646\n",
       "640    0.031180\n",
       "620    0.025688\n",
       "600    0.100145\n",
       "580    0.189510\n",
       "560    0.017809\n",
       "540    0.014839\n",
       "520    0.012707\n",
       "500    0.020472\n",
       "480    0.083850\n",
       "460    0.042035\n",
       "440    0.005365\n",
       "420    0.009813\n",
       "400    0.022598\n",
       "380    0.016415\n",
       "360    0.052165\n",
       "340    0.001133\n",
       "320    0.000194\n",
       "300    0.003920\n",
       "280    0.000075\n",
       "260    0.000000\n",
       "240    0.000472\n",
       "220    0.001144\n",
       "200    0.000000\n",
       "180    0.000509\n",
       "160    0.000000\n",
       "140    0.000000\n",
       "120    0.000075\n",
       "100    0.001432\n",
       "80     0.003134\n",
       "60     0.151822\n",
       "40     0.003696\n",
       "20     0.000000\n",
       "0      0.000000\n",
       "Name: 0, dtype: float64"
      ]
     },
     "execution_count": 395,
     "metadata": {},
     "output_type": "execute_result"
    }
   ],
   "source": [
    "df_top2[0]"
   ]
  },
  {
   "cell_type": "code",
   "execution_count": 420,
   "metadata": {},
   "outputs": [],
   "source": []
  },
  {
   "cell_type": "code",
   "execution_count": 463,
   "metadata": {},
   "outputs": [],
   "source": [
    "import cubehelix"
   ]
  },
  {
   "cell_type": "code",
   "execution_count": 464,
   "metadata": {},
   "outputs": [
    {
     "data": {
      "text/plain": [
       "<matplotlib.colors.LinearSegmentedColormap at 0x7fdc0e5ce4a8>"
      ]
     },
     "execution_count": 464,
     "metadata": {},
     "output_type": "execute_result"
    }
   ],
   "source": [
    "cubehelix.cmap()"
   ]
  },
  {
   "cell_type": "code",
   "execution_count": 465,
   "metadata": {},
   "outputs": [],
   "source": [
    "cm = _"
   ]
  },
  {
   "cell_type": "code",
   "execution_count": 473,
   "metadata": {},
   "outputs": [
    {
     "data": {
      "text/plain": [
       "(0.014334270891572475, 0.0035763713559327495, 0.013025519189395089, 1.0)"
      ]
     },
     "execution_count": 473,
     "metadata": {},
     "output_type": "execute_result"
    }
   ],
   "source": [
    "cm(2)"
   ]
  },
  {
   "cell_type": "code",
   "execution_count": 477,
   "metadata": {},
   "outputs": [
    {
     "data": {
      "text/plain": [
       "array([ 0.4267802 , -0.36824281,  1.00404038,  0.08517176, -0.04981876,\n",
       "       -0.45960373,  0.18402879,  0.44663557, -1.45661262, -0.08761285])"
      ]
     },
     "execution_count": 477,
     "metadata": {},
     "output_type": "execute_result"
    }
   ],
   "source": [
    "np.random.randn(10)"
   ]
  },
  {
   "cell_type": "code",
   "execution_count": 478,
   "metadata": {},
   "outputs": [],
   "source": [
    "import matplotlib.pyplot as plt"
   ]
  },
  {
   "cell_type": "code",
   "execution_count": 507,
   "metadata": {},
   "outputs": [
    {
     "data": {
      "image/png": "[encoded data removed]",
      "text/plain": [
       "<matplotlib.figure.Figure at 0x7fdc0e823048>"
      ]
     },
     "metadata": {},
     "output_type": "display_data"
    }
   ],
   "source": [
    "x = np.random.randn(1000)\n",
    "y = np.random.randn(1000)\n",
    "cx = cubehelix.cmap(start=0., rot=-0.5)\n",
    "cx = cubehelix.cmap(startHue=240,endHue=-300,minSat=1,maxSat=2.5,minLight=.3,maxLight=.8,gamma=.9)\n",
    "plt.hexbin(x, y, gridsize=20, cmap=cx)\n",
    "plt.show()\n",
    "\n",
    "cx2 = cx\n",
    "cx1 = cubehelix.cmap()"
   ]
  },
  {
   "cell_type": "code",
   "execution_count": 493,
   "metadata": {},
   "outputs": [
    {
     "data": {
      "text/plain": [
       "(0.90682881101390334, 0.83773951689927117, 0.45393004623293631, 1.0)"
      ]
     },
     "execution_count": 493,
     "metadata": {},
     "output_type": "execute_result"
    }
   ],
   "source": []
  },
  {
   "cell_type": "code",
   "execution_count": 575,
   "metadata": {},
   "outputs": [
    {
     "data": {
      "text/html": [
       "<div><span style=\"width: 20px; height: 20px; background: rgb(23,39,74); display: inline-block\"></span><span style=\"width: 20px; height: 20px; background: rgb(21,48,80); display: inline-block\"></span><span style=\"width: 20px; height: 20px; background: rgb(18,57,83); display: inline-block\"></span><span style=\"width: 20px; height: 20px; background: rgb(15,68,84); display: inline-block\"></span><span style=\"width: 20px; height: 20px; background: rgb(14,77,82); display: inline-block\"></span><span style=\"width: 20px; height: 20px; background: rgb(13,87,79); display: inline-block\"></span><span style=\"width: 20px; height: 20px; background: rgb(15,96,74); display: inline-block\"></span><span style=\"width: 20px; height: 20px; background: rgb(18,103,68); display: inline-block\"></span><span style=\"width: 20px; height: 20px; background: rgb(25,111,60); display: inline-block\"></span><span style=\"width: 20px; height: 20px; background: rgb(33,116,53); display: inline-block\"></span><span style=\"width: 20px; height: 20px; background: rgb(45,121,46); display: inline-block\"></span><span style=\"width: 20px; height: 20px; background: rgb(57,124,41); display: inline-block\"></span><span style=\"width: 20px; height: 20px; background: rgb(71,125,37); display: inline-block\"></span><span style=\"width: 20px; height: 20px; background: rgb(89,126,35); display: inline-block\"></span><span style=\"width: 20px; height: 20px; background: rgb(106,126,36); display: inline-block\"></span><span style=\"width: 20px; height: 20px; background: rgb(125,124,41); display: inline-block\"></span><span style=\"width: 20px; height: 20px; background: rgb(142,123,47); display: inline-block\"></span><span style=\"width: 20px; height: 20px; background: rgb(158,121,56); display: inline-block\"></span><span style=\"width: 20px; height: 20px; background: rgb(175,119,69); display: inline-block\"></span><span style=\"width: 20px; height: 20px; background: rgb(189,118,83); display: inline-block\"></span><span style=\"width: 20px; height: 20px; background: rgb(202,118,101); display: inline-block\"></span><span style=\"width: 20px; height: 20px; background: rgb(210,119,118); display: inline-block\"></span><span style=\"width: 20px; height: 20px; background: rgb(217,120,136); display: inline-block\"></span><span style=\"width: 20px; height: 20px; background: rgb(222,123,157); display: inline-block\"></span><span style=\"width: 20px; height: 20px; background: rgb(223,127,174); display: inline-block\"></span><span style=\"width: 20px; height: 20px; background: rgb(223,134,193); display: inline-block\"></span><span style=\"width: 20px; height: 20px; background: rgb(220,140,207); display: inline-block\"></span><span style=\"width: 20px; height: 20px; background: rgb(217,148,220); display: inline-block\"></span><span style=\"width: 20px; height: 20px; background: rgb(211,158,233); display: inline-block\"></span><span style=\"width: 20px; height: 20px; background: rgb(206,167,241); display: inline-block\"></span><span style=\"width: 20px; height: 20px; background: rgb(201,178,247); display: inline-block\"></span><span style=\"width: 20px; height: 20px; background: rgb(196,188,251); display: inline-block\"></span><span style=\"width: 20px; height: 20px; background: rgb(193,197,252); display: inline-block\"></span><span style=\"width: 20px; height: 20px; background: rgb(191,208,252); display: inline-block\"></span><span style=\"width: 20px; height: 20px; background: rgb(191,217,250); display: inline-block\"></span><span style=\"width: 20px; height: 20px; background: rgb(194,225,247); display: inline-block\"></span><span style=\"width: 20px; height: 20px; background: rgb(198,232,245); display: inline-block\"></span><span style=\"width: 20px; height: 20px; background: rgb(204,238,242); display: inline-block\"></span><span style=\"width: 20px; height: 20px; background: rgb(212,243,241); display: inline-block\"></span><span style=\"width: 20px; height: 20px; background: rgb(221,247,241); display: inline-block\"></span><span style=\"width: 20px; height: 20px; background: rgb(230,250,242); display: inline-block\"></span><span style=\"width: 20px; height: 20px; background: rgb(230,250,242); display: inline-block\"></span><span style=\"width: 20px; height: 20px; background: rgb(230,250,242); display: inline-block\"></span><span style=\"width: 20px; height: 20px; background: rgb(230,250,242); display: inline-block\"></span><span style=\"width: 20px; height: 20px; background: rgb(230,250,242); display: inline-block\"></span></div>"
      ],
      "text/plain": [
       "<__main__.CubeH at 0x7fdc0f677198>"
      ]
     },
     "execution_count": 575,
     "metadata": {},
     "output_type": "execute_result"
    }
   ],
   "source": [
    "class CubeH():\n",
    "    sz = 20\n",
    "    \n",
    "#    d = [cx1(n/800 +)  \n",
    "    def _repr_html_(self):\n",
    "        ns = range(0, 900, 20)\n",
    "        ns = [min(n, 800) for n in ns]\n",
    "        ns = [n/800 for n in ns]\n",
    "        #ns = [n/20*16 + 0.05 for n in ns]\n",
    "        \n",
    "        cx1 = cubehelix.cmap(minLight=0.15, maxLight=.95, gamma=1)\n",
    "        \n",
    "        self.d = [cx1(n) for n in ns]\n",
    "        \n",
    "        r = '<div>'\n",
    "        for c in self.d:\n",
    "            background = f'rgb({c[0]*256:.0f},{c[1]*256:.0f},{c[2]*256:.0f})'\n",
    "            \n",
    "            style = f'width: {self.sz}px; height: {self.sz}px; background: {background}; display: inline-block'\n",
    "            r += f'<span style=\"{style}\"></span>'\n",
    "            \n",
    "        r += '</div>'\n",
    "        return r\n",
    "\n",
    "CubeH()"
   ]
  },
  {
   "cell_type": "raw",
   "metadata": {},
   "source": []
  }
 ],
 "metadata": {
  "kernelspec": {
   "display_name": "Python 3",
   "language": "python",
   "name": "python3"
  },
  "language_info": {
   "codemirror_mode": {
    "name": "ipython",
    "version": 3
   },
   "file_extension": ".py",
   "mimetype": "text/x-python",
   "name": "python",
   "nbconvert_exporter": "python",
   "pygments_lexer": "ipython3",
   "version": "3.6.3"
  }
 },
 "nbformat": 4,
 "nbformat_minor": 2
}
