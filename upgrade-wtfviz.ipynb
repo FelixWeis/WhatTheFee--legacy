{
 "cells": [
  {
   "cell_type": "code",
   "execution_count": 457,
   "metadata": {},
   "outputs": [],
   "source": [
    "import wtfutil\n",
    "import colorsys\n",
    "import cubehelix\n",
    "import numpy as np\n",
    "import math\n",
    "\n",
    "\n",
    "def gcolor(n):\n",
    "    def to_rgb(hsl):\n",
    "        return colorsys.hls_to_rgb(hsl[0]/360, hsl[2], hsl[1])\n",
    "    \n",
    "    bases =[\n",
    "        [(240,.35,.35),(240,.65,.60),(240,.35,.75)],\n",
    "        [(80,.35,.35),(80,.55,.45),(80,.35,.75)],\n",
    "        [(40,.35,.35),(45,.75,.45),(40,.35,.75)],\n",
    "        [(0,.35,.35),(0,.65,.55),(0,.35,.75)],\n",
    "        [(300,.35,.35),(300,.65,.50),(300,.35,.75)],\n",
    "    ]\n",
    "    [under, excess] = [(0,.0,.35), (0,.0,.85)]\n",
    "    \n",
    "    # normalize\n",
    "    n = round(n*1000)/1000\n",
    "    \n",
    "    n = n*10.0\n",
    "    \n",
    "    if n < 0:\n",
    "        return to_rgb(under)\n",
    "    \n",
    "    if n >= 10.0:\n",
    "        return to_rgb(excess)\n",
    "    \n",
    "    cat = int(n//2)\n",
    "    sub = (n)%1\n",
    "    if n/2%1 < 0.5:\n",
    "        a = bases[cat][0]\n",
    "        b = bases[cat][1]\n",
    "    else:\n",
    "        a = bases[cat][1]\n",
    "        b = bases[cat][2]\n",
    "\n",
    "    ca = 1-sub\n",
    "    cb = sub\n",
    "    \n",
    "    final = (\n",
    "        ca * a[0] + cb * b[0],\n",
    "        ca * a[1] + cb * b[1],\n",
    "        ca * a[2] + cb * b[2]\n",
    "    )\n",
    "    return to_rgb(final)\n",
    "\n",
    "\n",
    "\n",
    "def fn_apply_colorize(idx, reverse=True, cmap='gcolor'):\n",
    "    HIGHEST=800\n",
    "    if np.isnan(idx):\n",
    "        return ''\n",
    "    if reverse:\n",
    "        idx = np.round(np.log(idx)*100)\n",
    "    \n",
    "    \n",
    "    ch = cubehelix.cmap(minLight=.15,maxLight=.95,minSat=0,maxSat=0)\n",
    "    if cmap == 'ch1':\n",
    "        ch = cubehelix.cmap(minLight=.15,maxLight=.95)\n",
    "    elif cmap == 'ch2':\n",
    "        ch = cubehelix.cmap(startHue=240,endHue=-300,minSat=1,maxSat=2.5,minLight=.3,maxLight=.8,gamma=.9)\n",
    "    elif cmap == 'gcolor':\n",
    "        ch = gcolor\n",
    "    \n",
    "    color = ch(idx/HIGHEST)\n",
    "    fill = f'rgb({color[0]*256:.0f},{color[1]*256:.0f},{color[2]*256:.0f})'\n",
    "            \n",
    "    return '''\n",
    "    1font-size: 15px;\n",
    "    text-shadow: 0px 0px 2px rgba(0, 0, 0, 1), 0px 0px 0.5px rgba(0, 0, 0, 1);\n",
    "    min-width: 60px;\n",
    "    color: rgba(255, 255, 255, .99);\n",
    "    1font-weight: 8000;\n",
    "    background: ''' + fill\n",
    "\n",
    "\n",
    "class CBar():\n",
    "    el = []\n",
    "    \n",
    "    def __init__(self, series, stop=1.0, start=0.0, ticks=5, cmap='gcolor', wmod=0, h=90, m=900, bg=(0.95,0.95,0.95), mid=False):\n",
    "        el = list()\n",
    "        \n",
    "        HIGHEST = 800\n",
    "        \n",
    "        el.append(f'<svg width=\"{m}\" height=\"{h}\" xmlns=\"http://www.w3.org/2000/svg\">')\n",
    "        \n",
    "        # background\n",
    "        color = bg\n",
    "        fill = f'rgb({color[0]*256:.0f},{color[1]*256:.0f},{color[2]*256:.0f})'\n",
    "        d = f'M {0} {0} L {0} {h} L {m} {h} L {m} 0 Z'\n",
    "        el.append(f'<path d=\"{d}\"fill=\"{fill}\" stroke-dasharray=\"5,5\" stroke-width=\"0.5\" stroke=\"grey\"/>')\n",
    "        \n",
    "        # mine the start\n",
    "        amine = wtfutil.mine_series(series, start)[1]\n",
    "        \n",
    "        # mine until stop\n",
    "        amine = wtfutil.mine_series(amine, stop-start)[0]\n",
    "        \n",
    "        ch = cubehelix.cmap(minLight=.15,maxLight=.95,minSat=0,maxSat=0)\n",
    "        if cmap == 'ch1':\n",
    "            ch = cubehelix.cmap(minLight=.15,maxLight=.95)\n",
    "        elif cmap == 'ch2':\n",
    "            ch = cubehelix.cmap(startHue=240,endHue=-300,minSat=1,maxSat=2.5,minLight=.3,maxLight=.8,gamma=.9)\n",
    "        elif cmap == 'gcolor':\n",
    "            ch = gcolor\n",
    "        \n",
    "        # calculate the ratio\n",
    "        ratio = m/(stop-start)\n",
    "        start = 0.0\n",
    "        \n",
    "        min_width = math.ceil(h/200)\n",
    "        max_width = h\n",
    "        \n",
    "        for idx, val in zip(series.index, amine):\n",
    "            \n",
    "            # determine thickness\n",
    "            \n",
    "            if 0:\n",
    "                pass\n",
    "            elif wmod == 1:\n",
    "                #min_width = 4\n",
    "                width = idx / HIGHEST * 0.916666 + 0.08333\n",
    "                width *= max_width #\n",
    "                #width = (max_width-min_width)/HIGHEST * idx + min_width\n",
    "            elif wmod == 2:\n",
    "                width = (max_width-min_width)/np.exp(HIGHEST/100) * np.exp(idx/100) + min_width\n",
    "            elif wmod == 3:\n",
    "                min_width = 0\n",
    "                width = math.sqrt(np.exp(idx/100))/math.sqrt(np.exp(HIGHEST/100)) * (max_width-min_width) + min_width\n",
    "            elif wmod == 4:\n",
    "                width = (1 + 6.5*idx/HIGHEST + 7.5 * (idx/HIGHEST)**2)/15\n",
    "                width *= max_width\n",
    "            elif wmod == 5:\n",
    "                d = 2\n",
    "                s = sum((1 + i*d for i in range(6)))\n",
    "                p = np.polyfit([0, 160, 800], [1, 1+d, s], 2)\n",
    "                w = np.polyval(p, idx)/s\n",
    "                width = w * max_width\n",
    "                \n",
    "            else:\n",
    "                width=1/15*h\n",
    "                \n",
    "\n",
    "            \n",
    "            # TODO: calculate wmod4: dh/dV using pi\n",
    "            \n",
    "            if val == 0.0:\n",
    "                continue\n",
    "            \n",
    "            color = ch(idx/HIGHEST)\n",
    "            fill = f'rgb({color[0]*256:.0f},{color[1]*256:.0f},{color[2]*256:.0f})'\n",
    "            x0 = math.floor(start)\n",
    "            x1 = math.ceil(start + ratio*val)\n",
    "            \n",
    "            y0 = math.floor((h - width) / 2)\n",
    "            y1 = math.ceil((h + width) / 2)\n",
    "            \n",
    "            y0 = h - width\n",
    "            y1 = h\n",
    "            \n",
    "            d = f'M {x0} {y0} L {x0} {y1} L {x1} {y1} L {x1} {y0} Z'            \n",
    "            el.append(f'<path d=\"{d}\" fill=\"{fill}\"/>')\n",
    "            #el.append(f'<rect x=\"{rx}\" y=\"{ry}\" width=\"{rw}\" height=\"{rh}\" fill=\"{fill}\" />')\n",
    "            start += ratio*val\n",
    "        \n",
    "        for i in range(1,ticks):\n",
    "            el.append(f'<line x1=\"{i*m/ticks}\" y1=\"0\" x2=\"{i*m/ticks}\" y2=\"{h}\" stroke-dasharray=\"5,5\" stroke-width=\"1\" stroke=\"rgba(128,128,128,0.25)\"/>')\n",
    "\n",
    "        hticks=5\n",
    "        for i in range(0,5):\n",
    "            idx = i * 160\n",
    "            #terms = [1, 1.6, 2.2, 2.8, 3.4, 4.]\n",
    "            #term2 = [1, 2.6, 4.2, 5.8, 7.4, 9.]\n",
    "            \n",
    "            if wmod == 3:\n",
    "                min_width = 0\n",
    "                width = math.sqrt(np.exp(idx/100))/math.sqrt(np.exp(HIGHEST/100)) * (max_width-min_width) + min_width\n",
    "            elif wmod == 4:\n",
    "                width = (1 + 6.5*idx/HIGHEST + 7.5 * (idx/HIGHEST)**2)/15\n",
    "                width *= max_width\n",
    "            elif wmod == 5:\n",
    "                d = 2\n",
    "                s = sum((1 + i*d for i in range(6)))\n",
    "                p = np.polyfit([0, 160, 800], [1, 1+d, s], 2)\n",
    "                w = np.polyval(p, idx)/s\n",
    "                width = w * max_width\n",
    "                \n",
    "            else:\n",
    "                width = i*160 / HIGHEST * 0.916666 + 0.08333\n",
    "                width *= max_width #\n",
    "            \n",
    "            y0 = math.floor((h - width) / 2)\n",
    "            y1 = math.ceil((h + width) / 2)\n",
    "            y0 = h-width\n",
    "\n",
    "            el.append(f'<line x1=\"0\" y1=\"{y0}\" x2=\"{m}\" y2=\"{y0}\" stroke-dasharray=\"5,5\" stroke-width=\"1\" stroke=\"rgba(128,128,128,0.25)\"/>')\n",
    "#            el.append(f'<line x1=\"0\" y1=\"{y1}\" x2=\"{m}\" y2=\"{y1}\" stroke-dasharray=\"5,5\" stroke-width=\"1\" stroke=\"rgba(128,128,128,0.25)\"/>')\n",
    "\n",
    "        el.append(f'</svg>')\n",
    "    \n",
    "        self.el = el\n",
    "        \n",
    "    \n",
    "    def _repr_html_(self):\n",
    "        return ''.join(self.el)\n"
   ]
  },
  {
   "cell_type": "code",
   "execution_count": 458,
   "metadata": {},
   "outputs": [],
   "source": [
    "#CBar(fa.mvs, wmod=3, h=500, m=500)"
   ]
  },
  {
   "cell_type": "code",
   "execution_count": 459,
   "metadata": {},
   "outputs": [
    {
     "data": {
      "text/html": [
       "<svg width=\"500\" height=\"500\" xmlns=\"http://www.w3.org/2000/svg\"><path d=\"M 0 0 L 0 500 L 500 500 L 500 0 Z\"fill=\"rgb(243,243,243)\" stroke-dasharray=\"5,5\" stroke-width=\"0.5\" stroke=\"grey\"/><path d=\"M 0 0.0 L 0 500 L 22 500 L 22 0.0 Z\" fill=\"rgb(218,218,218)\"/><path d=\"M 21 44.921875 L 21 500 L 43 500 L 43 44.921875 Z\" fill=\"rgb(208,112,208)\"/><path d=\"M 42 87.67361111111109 L 42 500 L 65 500 L 65 87.67361111111109 Z\" fill=\"rgb(211,45,211)\"/><path d=\"M 64 128.25520833333331 L 64 500 L 86 500 L 86 128.25520833333331 Z\" fill=\"rgb(163,54,163)\"/><path d=\"M 85 166.66666666666669 L 85 500 L 108 500 L 108 166.66666666666669 Z\" fill=\"rgb(121,58,121)\"/><path d=\"M 107 202.9079861111111 L 107 500 L 129 500 L 129 202.9079861111111 Z\" fill=\"rgb(211,122,122)\"/><path d=\"M 128 236.97916666666669 L 128 500 L 150 500 L 150 236.97916666666669 Z\" fill=\"rgb(216,66,66)\"/><path d=\"M 149 268.88020833333337 L 149 500 L 172 500 L 172 268.88020833333337 Z\" fill=\"rgb(173,58,58)\"/><path d=\"M 171 298.61111111111114 L 171 500 L 193 500 L 193 298.61111111111114 Z\" fill=\"rgb(121,58,58)\"/><path d=\"M 192 326.171875 L 192 500 L 215 500 L 215 326.171875 Z\" fill=\"rgb(210,177,97)\"/><path d=\"M 214 351.5625 L 214 500 L 236 500 L 236 351.5625 Z\" fill=\"rgb(202,158,29)\"/><path d=\"M 235 374.78298611111114 L 235 500 L 258 500 L 258 374.78298611111114 Z\" fill=\"rgb(159,126,46)\"/><path d=\"M 257 395.83333333333337 L 257 500 L 279 500 L 279 395.83333333333337 Z\" fill=\"rgb(121,100,58)\"/><path d=\"M 278 414.7135416666667 L 278 500 L 300 500 L 300 414.7135416666667 Z\" fill=\"rgb(169,200,108)\"/><path d=\"M 299 431.42361111111114 L 299 500 L 322 500 L 322 431.42361111111114 Z\" fill=\"rgb(136,179,52)\"/><path d=\"M 321 445.96354166666674 L 321 500 L 343 500 L 343 445.96354166666674 Z\" fill=\"rgb(118,148,56)\"/><path d=\"M 342 458.33333333333337 L 342 500 L 365 500 L 365 458.33333333333337 Z\" fill=\"rgb(100,121,58)\"/><path d=\"M 364 468.53298611111114 L 364 500 L 386 500 L 386 468.53298611111114 Z\" fill=\"rgb(131,131,214)\"/><path d=\"M 385 476.56250000000006 L 385 500 L 408 500 L 408 476.56250000000006 Z\" fill=\"rgb(87,87,220)\"/><path d=\"M 407 482.42187500000006 L 407 500 L 429 500 L 429 482.42187500000006 Z\" fill=\"rgb(61,61,182)\"/><path d=\"M 428 486.11111111111114 L 428 500 L 451 500 L 451 486.11111111111114 Z\" fill=\"rgb(58,58,121)\"/><line x1=\"100.0\" y1=\"0\" x2=\"100.0\" y2=\"500\" stroke-dasharray=\"5,5\" stroke-width=\"1\" stroke=\"rgba(128,128,128,0.25)\"/><line x1=\"200.0\" y1=\"0\" x2=\"200.0\" y2=\"500\" stroke-dasharray=\"5,5\" stroke-width=\"1\" stroke=\"rgba(128,128,128,0.25)\"/><line x1=\"300.0\" y1=\"0\" x2=\"300.0\" y2=\"500\" stroke-dasharray=\"5,5\" stroke-width=\"1\" stroke=\"rgba(128,128,128,0.25)\"/><line x1=\"400.0\" y1=\"0\" x2=\"400.0\" y2=\"500\" stroke-dasharray=\"5,5\" stroke-width=\"1\" stroke=\"rgba(128,128,128,0.25)\"/><line x1=\"0\" y1=\"486.11111111111114\" x2=\"500\" y2=\"486.11111111111114\" stroke-dasharray=\"5,5\" stroke-width=\"1\" stroke=\"rgba(128,128,128,0.25)\"/><line x1=\"0\" y1=\"458.33333333333337\" x2=\"500\" y2=\"458.33333333333337\" stroke-dasharray=\"5,5\" stroke-width=\"1\" stroke=\"rgba(128,128,128,0.25)\"/><line x1=\"0\" y1=\"395.83333333333337\" x2=\"500\" y2=\"395.83333333333337\" stroke-dasharray=\"5,5\" stroke-width=\"1\" stroke=\"rgba(128,128,128,0.25)\"/><line x1=\"0\" y1=\"298.61111111111114\" x2=\"500\" y2=\"298.61111111111114\" stroke-dasharray=\"5,5\" stroke-width=\"1\" stroke=\"rgba(128,128,128,0.25)\"/><line x1=\"0\" y1=\"166.66666666666669\" x2=\"500\" y2=\"166.66666666666669\" stroke-dasharray=\"5,5\" stroke-width=\"1\" stroke=\"rgba(128,128,128,0.25)\"/></svg>"
      ],
      "text/plain": [
       "<__main__.CBar at 0x7ff550be0828>"
      ]
     },
     "execution_count": 459,
     "metadata": {},
     "output_type": "execute_result"
    }
   ],
   "source": [
    "idx = list(range(800,-40,-40))\n",
    "#idx = list(range(800,-1,-1))\n",
    "ones = pd.Series(1/len(idx), index=idx)\n",
    "CBar(ones *.90, 1, 0, 5, wmod=5, h=500, m=500)"
   ]
  },
  {
   "cell_type": "code",
   "execution_count": 460,
   "metadata": {},
   "outputs": [
    {
     "data": {
      "text/html": [
       "<svg width=\"500\" height=\"500\" xmlns=\"http://www.w3.org/2000/svg\"><path d=\"M 0 0 L 0 500 L 500 500 L 500 0 Z\"fill=\"rgb(243,243,243)\" stroke-dasharray=\"5,5\" stroke-width=\"0.5\" stroke=\"grey\"/><path d=\"M 0 0.0 L 0 500 L 22 500 L 22 0.0 Z\" fill=\"rgb(218,218,218)\"/><path d=\"M 21 35.208333333333314 L 21 500 L 43 500 L 43 35.208333333333314 Z\" fill=\"rgb(208,112,208)\"/><path d=\"M 42 69.16666666666663 L 42 500 L 65 500 L 65 69.16666666666663 Z\" fill=\"rgb(211,45,211)\"/><path d=\"M 64 101.875 L 64 500 L 86 500 L 86 101.875 Z\" fill=\"rgb(163,54,163)\"/><path d=\"M 85 133.33333333333337 L 85 500 L 108 500 L 108 133.33333333333337 Z\" fill=\"rgb(121,58,121)\"/><path d=\"M 107 163.54166666666663 L 107 500 L 129 500 L 129 163.54166666666663 Z\" fill=\"rgb(211,122,122)\"/><path d=\"M 128 192.5 L 128 500 L 150 500 L 150 192.5 Z\" fill=\"rgb(216,66,66)\"/><path d=\"M 149 220.20833333333326 L 149 500 L 172 500 L 172 220.20833333333326 Z\" fill=\"rgb(173,58,58)\"/><path d=\"M 171 246.6666666666667 L 171 500 L 193 500 L 193 246.6666666666667 Z\" fill=\"rgb(121,58,58)\"/><path d=\"M 192 271.875 L 192 500 L 215 500 L 215 271.875 Z\" fill=\"rgb(210,177,97)\"/><path d=\"M 214 295.83333333333337 L 214 500 L 236 500 L 236 295.83333333333337 Z\" fill=\"rgb(202,158,29)\"/><path d=\"M 235 318.54166666666663 L 235 500 L 258 500 L 258 318.54166666666663 Z\" fill=\"rgb(159,126,46)\"/><path d=\"M 257 340.0 L 257 500 L 279 500 L 279 340.0 Z\" fill=\"rgb(121,100,58)\"/><path d=\"M 278 360.20833333333337 L 278 500 L 300 500 L 300 360.20833333333337 Z\" fill=\"rgb(169,200,108)\"/><path d=\"M 299 379.1666666666667 L 299 500 L 322 500 L 322 379.1666666666667 Z\" fill=\"rgb(136,179,52)\"/><path d=\"M 321 396.875 L 321 500 L 343 500 L 343 396.875 Z\" fill=\"rgb(118,148,56)\"/><path d=\"M 342 413.33333333333337 L 342 500 L 365 500 L 365 413.33333333333337 Z\" fill=\"rgb(100,121,58)\"/><path d=\"M 364 428.54166666666663 L 364 500 L 386 500 L 386 428.54166666666663 Z\" fill=\"rgb(131,131,214)\"/><path d=\"M 385 442.5 L 385 500 L 408 500 L 408 442.5 Z\" fill=\"rgb(87,87,220)\"/><path d=\"M 407 455.2083333333333 L 407 500 L 429 500 L 429 455.2083333333333 Z\" fill=\"rgb(61,61,182)\"/><path d=\"M 428 466.6666666666667 L 428 500 L 451 500 L 451 466.6666666666667 Z\" fill=\"rgb(58,58,121)\"/><line x1=\"100.0\" y1=\"0\" x2=\"100.0\" y2=\"500\" stroke-dasharray=\"5,5\" stroke-width=\"1\" stroke=\"rgba(128,128,128,0.25)\"/><line x1=\"200.0\" y1=\"0\" x2=\"200.0\" y2=\"500\" stroke-dasharray=\"5,5\" stroke-width=\"1\" stroke=\"rgba(128,128,128,0.25)\"/><line x1=\"300.0\" y1=\"0\" x2=\"300.0\" y2=\"500\" stroke-dasharray=\"5,5\" stroke-width=\"1\" stroke=\"rgba(128,128,128,0.25)\"/><line x1=\"400.0\" y1=\"0\" x2=\"400.0\" y2=\"500\" stroke-dasharray=\"5,5\" stroke-width=\"1\" stroke=\"rgba(128,128,128,0.25)\"/><line x1=\"0\" y1=\"466.6666666666667\" x2=\"500\" y2=\"466.6666666666667\" stroke-dasharray=\"5,5\" stroke-width=\"1\" stroke=\"rgba(128,128,128,0.25)\"/><line x1=\"0\" y1=\"413.33333333333337\" x2=\"500\" y2=\"413.33333333333337\" stroke-dasharray=\"5,5\" stroke-width=\"1\" stroke=\"rgba(128,128,128,0.25)\"/><line x1=\"0\" y1=\"340.0\" x2=\"500\" y2=\"340.0\" stroke-dasharray=\"5,5\" stroke-width=\"1\" stroke=\"rgba(128,128,128,0.25)\"/><line x1=\"0\" y1=\"246.6666666666667\" x2=\"500\" y2=\"246.6666666666667\" stroke-dasharray=\"5,5\" stroke-width=\"1\" stroke=\"rgba(128,128,128,0.25)\"/><line x1=\"0\" y1=\"133.33333333333337\" x2=\"500\" y2=\"133.33333333333337\" stroke-dasharray=\"5,5\" stroke-width=\"1\" stroke=\"rgba(128,128,128,0.25)\"/></svg>"
      ],
      "text/plain": [
       "<__main__.CBar at 0x7ff550be09b0>"
      ]
     },
     "execution_count": 460,
     "metadata": {},
     "output_type": "execute_result"
    }
   ],
   "source": [
    "idx = list(range(800,-40,-40))\n",
    "#idx = list(range(800,-1,-1))\n",
    "ones = pd.Series(1/len(idx), index=idx)\n",
    "CBar(ones *.90, 1, 0, 5, wmod=4, h=500, m=500)"
   ]
  },
  {
   "cell_type": "code",
   "execution_count": 304,
   "metadata": {},
   "outputs": [
    {
     "data": {
      "text/html": [
       "<svg width=\"500\" height=\"500\" xmlns=\"http://www.w3.org/2000/svg\"><path d=\"M 0 0 L 0 500 L 500 500 L 500 0 Z\"fill=\"rgb(243,243,243)\" stroke-dasharray=\"5,5\" stroke-width=\"0.5\" stroke=\"grey\"/><path d=\"M 0 0.0 L 0 500 L 20 500 L 20 0.0 Z\" fill=\"rgb(234,214,118)\"/><path d=\"M 19 35.208333333333314 L 19 500 L 39 500 L 39 35.208333333333314 Z\" fill=\"rgb(210,219,104)\"/><path d=\"M 38 69.16666666666663 L 38 500 L 58 500 L 58 69.16666666666663 Z\" fill=\"rgb(182,225,97)\"/><path d=\"M 57 101.875 L 57 500 L 77 500 L 77 101.875 Z\" fill=\"rgb(153,229,97)\"/><path d=\"M 76 133.33333333333337 L 76 500 L 96 500 L 96 133.33333333333337 Z\" fill=\"rgb(125,232,103)\"/><path d=\"M 95 163.54166666666663 L 95 500 L 115 500 L 115 163.54166666666663 Z\" fill=\"rgb(102,232,115)\"/><path d=\"M 114 192.5 L 114 500 L 134 500 L 134 192.5 Z\" fill=\"rgb(82,228,133)\"/><path d=\"M 133 220.20833333333326 L 133 500 L 153 500 L 153 220.20833333333326 Z\" fill=\"rgb(68,221,153)\"/><path d=\"M 152 246.6666666666667 L 152 500 L 172 500 L 172 246.6666666666667 Z\" fill=\"rgb(60,211,173)\"/><path d=\"M 171 271.875 L 171 500 L 191 500 L 191 271.875 Z\" fill=\"rgb(59,197,193)\"/><path d=\"M 190 295.83333333333337 L 190 500 L 210 500 L 210 295.83333333333337 Z\" fill=\"rgb(63,183,207)\"/><path d=\"M 209 318.54166666666663 L 209 500 L 229 500 L 229 318.54166666666663 Z\" fill=\"rgb(73,165,219)\"/><path d=\"M 228 340.0 L 228 500 L 248 500 L 248 340.0 Z\" fill=\"rgb(85,147,224)\"/><path d=\"M 247 360.20833333333337 L 247 500 L 267 500 L 267 360.20833333333337 Z\" fill=\"rgb(100,130,223)\"/><path d=\"M 266 379.1666666666667 L 266 500 L 286 500 L 286 379.1666666666667 Z\" fill=\"rgb(114,113,216)\"/><path d=\"M 285 396.875 L 285 500 L 305 500 L 305 396.875 Z\" fill=\"rgb(126,99,204)\"/><path d=\"M 304 413.33333333333337 L 304 500 L 324 500 L 324 413.33333333333337 Z\" fill=\"rgb(136,86,186)\"/><path d=\"M 323 428.54166666666663 L 323 500 L 343 500 L 343 428.54166666666663 Z\" fill=\"rgb(143,76,165)\"/><path d=\"M 342 442.5 L 342 500 L 362 500 L 362 442.5 Z\" fill=\"rgb(145,68,142)\"/><path d=\"M 361 455.2083333333333 L 361 500 L 381 500 L 381 455.2083333333333 Z\" fill=\"rgb(142,63,119)\"/><path d=\"M 380 466.6666666666667 L 380 500 L 400 500 L 400 466.6666666666667 Z\" fill=\"rgb(136,59,98)\"/><line x1=\"100.0\" y1=\"0\" x2=\"100.0\" y2=\"500\" stroke-dasharray=\"5,5\" stroke-width=\"1\" stroke=\"rgba(128,128,128,0.25)\"/><line x1=\"200.0\" y1=\"0\" x2=\"200.0\" y2=\"500\" stroke-dasharray=\"5,5\" stroke-width=\"1\" stroke=\"rgba(128,128,128,0.25)\"/><line x1=\"300.0\" y1=\"0\" x2=\"300.0\" y2=\"500\" stroke-dasharray=\"5,5\" stroke-width=\"1\" stroke=\"rgba(128,128,128,0.25)\"/><line x1=\"400.0\" y1=\"0\" x2=\"400.0\" y2=\"500\" stroke-dasharray=\"5,5\" stroke-width=\"1\" stroke=\"rgba(128,128,128,0.25)\"/><line x1=\"0\" y1=\"466.6666666666667\" x2=\"500\" y2=\"466.6666666666667\" stroke-dasharray=\"5,5\" stroke-width=\"1\" stroke=\"rgba(128,128,128,0.25)\"/><line x1=\"0\" y1=\"413.33333333333337\" x2=\"500\" y2=\"413.33333333333337\" stroke-dasharray=\"5,5\" stroke-width=\"1\" stroke=\"rgba(128,128,128,0.25)\"/><line x1=\"0\" y1=\"340.0\" x2=\"500\" y2=\"340.0\" stroke-dasharray=\"5,5\" stroke-width=\"1\" stroke=\"rgba(128,128,128,0.25)\"/><line x1=\"0\" y1=\"246.6666666666667\" x2=\"500\" y2=\"246.6666666666667\" stroke-dasharray=\"5,5\" stroke-width=\"1\" stroke=\"rgba(128,128,128,0.25)\"/><line x1=\"0\" y1=\"133.33333333333337\" x2=\"500\" y2=\"133.33333333333337\" stroke-dasharray=\"5,5\" stroke-width=\"1\" stroke=\"rgba(128,128,128,0.25)\"/></svg>"
      ],
      "text/plain": [
       "<__main__.CBar at 0x7ff550cb1320>"
      ]
     },
     "execution_count": 304,
     "metadata": {},
     "output_type": "execute_result"
    }
   ],
   "source": [
    "idx = list(range(800,-40,-40))\n",
    "ones = pd.Series(1/len(idx), index=idx)\n",
    "CBar(ones *.8, 1, 0, 5, cmap='ch2', wmod=4, h=500, m=500)"
   ]
  },
  {
   "cell_type": "code",
   "execution_count": 305,
   "metadata": {},
   "outputs": [],
   "source": [
    "sample_mvs = pd.Series([0.00011275,\n",
    " 5.65e-05,\n",
    " 0.0,\n",
    " 0.0009420000000000001,\n",
    " 0.00343025,\n",
    " 0.0050644999999999996,\n",
    " 0.0036259999999999994,\n",
    " 0.01298875,\n",
    " 0.03919825,\n",
    " 0.006884749999999999,\n",
    " 0.020551250000000007,\n",
    " 0.032798999999999995,\n",
    " 0.030356000000000008,\n",
    " 0.040853749999999994,\n",
    " 0.12822425,\n",
    " 0.18221775,\n",
    " 0.025618499999999992,\n",
    " 0.07528474999999998,\n",
    " 0.012026750000000001,\n",
    " 0.012269000000000002,\n",
    " 0.01165975], index=list(range(800,-40,-40)))"
   ]
  },
  {
   "cell_type": "code",
   "execution_count": 476,
   "metadata": {},
   "outputs": [
    {
     "data": {
      "text/html": [
       "<svg width=\"400\" height=\"400\" xmlns=\"http://www.w3.org/2000/svg\"><path d=\"M 0 0 L 0 400 L 400 400 L 400 0 Z\"fill=\"rgb(243,243,243)\" stroke-dasharray=\"5,5\" stroke-width=\"0.5\" stroke=\"grey\"/><path d=\"M 0 0.0 L 0 400 L 1 400 L 1 0.0 Z\" fill=\"rgb(218,218,218)\"/><path d=\"M 0 131.21262167781566 L 0 400 L 1 400 L 1 131.21262167781566 Z\" fill=\"rgb(208,112,208)\"/><path d=\"M 0 278.1247036589436 L 0 400 L 1 400 L 1 278.1247036589436 Z\" fill=\"rgb(163,54,163)\"/><path d=\"M 0 317.64518583812713 L 0 400 L 2 400 L 2 317.64518583812713 Z\" fill=\"rgb(121,58,121)\"/><path d=\"M 1 344.13655727182817 L 1 400 L 4 400 L 4 344.13655727182817 Z\" fill=\"rgb(211,122,122)\"/><path d=\"M 3 361.89425459081383 L 3 400 L 6 400 L 6 361.89425459081383 Z\" fill=\"rgb(216,66,66)\"/><path d=\"M 5 373.79759507516326 L 5 400 L 11 400 L 11 373.79759507516326 Z\" fill=\"rgb(173,58,58)\"/><path d=\"M 10 381.77664281661026 L 10 400 L 27 400 L 27 381.77664281661026 Z\" fill=\"rgb(121,58,58)\"/><path d=\"M 26 387.12515846597756 L 26 400 L 29 400 L 29 387.12515846597756 Z\" fill=\"rgb(210,177,97)\"/><path d=\"M 28 390.7103757222838 L 28 400 L 38 400 L 38 390.7103757222838 Z\" fill=\"rgb(202,158,29)\"/><path d=\"M 37 393.1136187185788 L 37 400 L 51 400 L 51 393.1136187185788 Z\" fill=\"rgb(159,126,46)\"/><path d=\"M 50 394.72456067449 L 50 400 L 63 400 L 63 394.72456067449 Z\" fill=\"rgb(121,100,58)\"/><path d=\"M 62 395.8044073605372 L 62 400 L 79 400 L 79 395.8044073605372 Z\" fill=\"rgb(169,200,108)\"/><path d=\"M 78 396.5282502408398 L 78 400 L 131 400 L 131 396.5282502408398 Z\" fill=\"rgb(136,179,52)\"/><path d=\"M 130 397.0134566336868 L 130 400 L 203 400 L 203 397.0134566336868 Z\" fill=\"rgb(118,148,56)\"/><path d=\"M 202 397.3387002052768 L 202 400 L 214 400 L 214 397.3387002052768 Z\" fill=\"rgb(100,121,58)\"/><path d=\"M 213 397.55671749115777 L 213 400 L 244 400 L 244 397.55671749115777 Z\" fill=\"rgb(131,131,214)\"/><path d=\"M 243 397.7028588482661 L 243 400 L 249 400 L 249 397.7028588482661 Z\" fill=\"rgb(87,87,220)\"/><path d=\"M 248 397.80082032949065 L 248 400 L 254 400 L 254 397.80082032949065 Z\" fill=\"rgb(61,61,182)\"/><path d=\"M 253 397.8664858740948 L 253 400 L 258 400 L 258 397.8664858740948 Z\" fill=\"rgb(58,58,121)\"/><line x1=\"80.0\" y1=\"0\" x2=\"80.0\" y2=\"400\" stroke-dasharray=\"5,5\" stroke-width=\"1\" stroke=\"rgba(128,128,128,0.25)\"/><line x1=\"160.0\" y1=\"0\" x2=\"160.0\" y2=\"400\" stroke-dasharray=\"5,5\" stroke-width=\"1\" stroke=\"rgba(128,128,128,0.25)\"/><line x1=\"240.0\" y1=\"0\" x2=\"240.0\" y2=\"400\" stroke-dasharray=\"5,5\" stroke-width=\"1\" stroke=\"rgba(128,128,128,0.25)\"/><line x1=\"320.0\" y1=\"0\" x2=\"320.0\" y2=\"400\" stroke-dasharray=\"5,5\" stroke-width=\"1\" stroke=\"rgba(128,128,128,0.25)\"/><line x1=\"0\" y1=\"366.668\" x2=\"400\" y2=\"366.668\" stroke-dasharray=\"5,5\" stroke-width=\"1\" stroke=\"rgba(128,128,128,0.25)\"/><line x1=\"0\" y1=\"293.33472\" x2=\"400\" y2=\"293.33472\" stroke-dasharray=\"5,5\" stroke-width=\"1\" stroke=\"rgba(128,128,128,0.25)\"/><line x1=\"0\" y1=\"220.00144\" x2=\"400\" y2=\"220.00144\" stroke-dasharray=\"5,5\" stroke-width=\"1\" stroke=\"rgba(128,128,128,0.25)\"/><line x1=\"0\" y1=\"146.66816000000003\" x2=\"400\" y2=\"146.66816000000003\" stroke-dasharray=\"5,5\" stroke-width=\"1\" stroke=\"rgba(128,128,128,0.25)\"/><line x1=\"0\" y1=\"73.33488\" x2=\"400\" y2=\"73.33488\" stroke-dasharray=\"5,5\" stroke-width=\"1\" stroke=\"rgba(128,128,128,0.25)\"/></svg>"
      ],
      "text/plain": [
       "<__main__.CBar at 0x7ff550bac908>"
      ]
     },
     "execution_count": 476,
     "metadata": {},
     "output_type": "execute_result"
    }
   ],
   "source": [
    "CBar(sample_mvs, 1, 0, 5, wmod=2, h=400, m=400)"
   ]
  },
  {
   "cell_type": "code",
   "execution_count": 403,
   "metadata": {},
   "outputs": [
    {
     "data": {
      "text/plain": [
       "21.0"
      ]
     },
     "execution_count": 403,
     "metadata": {},
     "output_type": "execute_result"
    }
   ],
   "source": [
    "d=1.0\n",
    "s = sum((1 + i*d for i in range(6)))\n",
    "s"
   ]
  },
  {
   "cell_type": "code",
   "execution_count": 374,
   "metadata": {},
   "outputs": [
    {
     "data": {
      "text/plain": [
       "0.3333333333333333"
      ]
     },
     "execution_count": 374,
     "metadata": {},
     "output_type": "execute_result"
    }
   ],
   "source": [
    "(1+1+d)/s"
   ]
  },
  {
   "cell_type": "code",
   "execution_count": 404,
   "metadata": {},
   "outputs": [
    {
     "data": {
      "text/plain": [
       "array([  2.92968750e-05,   1.56250000e-03,   1.00000000e+00])"
      ]
     },
     "execution_count": 404,
     "metadata": {},
     "output_type": "execute_result"
    }
   ],
   "source": [
    "np.polyfit([0, 160, 800], [1, 1+1, 21], 2)"
   ]
  },
  {
   "cell_type": "code",
   "execution_count": 383,
   "metadata": {},
   "outputs": [
    {
     "data": {
      "text/plain": [
       "array([  7.81250000e-07,   5.41666667e-04,   6.66666667e-02])"
      ]
     },
     "execution_count": 383,
     "metadata": {},
     "output_type": "execute_result"
    }
   ],
   "source": [
    "np.polyfit([0, 160, 800], [1/15, (1+1.6)/15, 15/15], 2)"
   ]
  },
  {
   "cell_type": "code",
   "execution_count": 399,
   "metadata": {},
   "outputs": [
    {
     "data": {
      "text/plain": [
       "2.0000000000000009"
      ]
     },
     "execution_count": 399,
     "metadata": {},
     "output_type": "execute_result"
    }
   ],
   "source": [
    "np.polyval(np.polyfit([0, 160, 800], [1, 2, 6], 1), 160)"
   ]
  },
  {
   "cell_type": "code",
   "execution_count": 410,
   "metadata": {},
   "outputs": [
    {
     "data": {
      "text/plain": [
       "0.6666666666666663"
      ]
     },
     "execution_count": 410,
     "metadata": {},
     "output_type": "execute_result"
    }
   ],
   "source": [
    "np.polyval(np.polyfit([0, 160, 800], [1, 1+1, 21], 2), 800-160)/21"
   ]
  },
  {
   "cell_type": "code",
   "execution_count": null,
   "metadata": {},
   "outputs": [],
   "source": []
  }
 ],
 "metadata": {
  "kernelspec": {
   "display_name": "Python 3",
   "language": "python",
   "name": "python3"
  },
  "language_info": {
   "codemirror_mode": {
    "name": "ipython",
    "version": 3
   },
   "file_extension": ".py",
   "mimetype": "text/x-python",
   "name": "python",
   "nbconvert_exporter": "python",
   "pygments_lexer": "ipython3",
   "version": "3.6.3"
  }
 },
 "nbformat": 4,
 "nbformat_minor": 2
}
