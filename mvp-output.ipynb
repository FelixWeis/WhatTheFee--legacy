{
 "cells": [
  {
   "cell_type": "code",
   "execution_count": 40,
   "metadata": {},
   "outputs": [],
   "source": [
    "import pandas as pd\n",
    "import numpy as np\n",
    "import wtfutil\n",
    "import time\n",
    "import pathlib\n",
    "import datetime\n",
    "import functools\n",
    "import math\n",
    "import json"
   ]
  },
  {
   "cell_type": "code",
   "execution_count": 41,
   "metadata": {
    "scrolled": true
   },
   "outputs": [],
   "source": [
    "FEEAGG_BUCKETS=25\n",
    "\n",
    "PATH_PREFIX=(datetime.datetime.utcnow()-datetime.timedelta(0)).strftime('data/%Y/%m/%d/') \n",
    "#PATH_PREFIX=datetime.datetime.utcnow().strftime('data/2017/12/26/') \n",
    "DELTA_DATAPOINTS=120 # 40 dp * 15 sec/dp = 600\n",
    "\n",
    "COLORS=['#8cff66', '#ff668c', '#668cff']\n",
    "\n",
    "# load the last DELTA_DATAPOINTS deltas\n",
    "txpool_delta = pd.concat(wtfutil.pqload_lastn(PATH_PREFIX, 'diff', DELTA_DATAPOINTS)).query('diff == 1')\n",
    "feeagg_delta = wtfutil.feeagg(txpool_delta, FEEAGG_BUCKETS) * 40 / DELTA_DATAPOINTS\n",
    "\n",
    "txpool_mpool = pd.concat(wtfutil.pqload_lastn(PATH_PREFIX, 'full', 1).values())\n",
    "feeagg_mpool = wtfutil.feeagg(txpool_mpool, FEEAGG_BUCKETS)\n"
   ]
  },
  {
   "cell_type": "code",
   "execution_count": 42,
   "metadata": {},
   "outputs": [],
   "source": [
    "fn = functools.partial(wtfutil.cellfn_simulate, fa_start=feeagg_mpool, fa_delta=feeagg_delta, mvs=1.0)\n",
    "df_simulation_large = wtfutil.df_simulation_large\n",
    "\n",
    "fa_demo = feeagg_mpool + feeagg_delta*10 # more exact since realtime\n",
    "fn = functools.partial(wtfutil.cellfn_simulate, fa_start=fa_demo, fa_delta=feeagg_delta, mvs=1.0)\n",
    "r=wtfutil.mp_map_df(fn, df_simulation_large)\n",
    "\n",
    "\n",
    "data = json.dumps(r.to_dict('split')).replace('NaN', 'null')\n",
    "with open('mvp/build/data.json', 'w') as f:\n",
    "    f.write(data)\n",
    "\n",
    "\n"
   ]
  },
  {
   "cell_type": "code",
   "execution_count": null,
   "metadata": {},
   "outputs": [],
   "source": []
  },
  {
   "cell_type": "code",
   "execution_count": null,
   "metadata": {},
   "outputs": [],
   "source": []
  }
 ],
 "metadata": {
  "kernelspec": {
   "display_name": "Python 3",
   "language": "python",
   "name": "python3"
  },
  "language_info": {
   "codemirror_mode": {
    "name": "ipython",
    "version": 3
   },
   "file_extension": ".py",
   "mimetype": "text/x-python",
   "name": "python",
   "nbconvert_exporter": "python",
   "pygments_lexer": "ipython3",
   "version": "3.6.3"
  }
 },
 "nbformat": 4,
 "nbformat_minor": 2
}
