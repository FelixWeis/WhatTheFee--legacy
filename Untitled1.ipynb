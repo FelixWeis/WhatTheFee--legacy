{
 "cells": [
  {
   "cell_type": "code",
   "execution_count": 95,
   "metadata": {},
   "outputs": [],
   "source": [
    "import os\n",
    "\n",
    "LINERARIZE_FILENAME=\"dataset-blocks/all.tsv\"\n",
    "\n",
    "d = dict()\n",
    "for line in open(LINERARIZE_FILENAME):\n",
    "    l = line.strip().split('\\t')\n",
    "    d[l[0]] = l[1:]\n",
    "\n",
    "genesis = '000000000019d6689c085ae165831e934ff763ae46a2a6c172b3f1b60a8ce26f'\n",
    "current = '0000000000000000001bea2335a21ec3b6ffad22368b168714a7fbf0a4c68fe4'\n",
    "chain = []\n",
    "chain.append(current)\n",
    "while current != genesis:\n",
    "    prev = d[current][0]\n",
    "    chain.append(prev)\n",
    "    current = prev\n",
    "\n",
    "fin_name = \"\"\n",
    "fin = None"
   ]
  },
  {
   "cell_type": "code",
   "execution_count": null,
   "metadata": {},
   "outputs": [],
   "source": []
  },
  {
   "cell_type": "code",
   "execution_count": 106,
   "metadata": {},
   "outputs": [],
   "source": []
  },
  {
   "cell_type": "code",
   "execution_count": 112,
   "metadata": {},
   "outputs": [],
   "source": []
  },
  {
   "cell_type": "code",
   "execution_count": 111,
   "metadata": {},
   "outputs": [
    {
     "data": {
      "text/plain": [
       "'1527078772'"
      ]
     },
     "execution_count": 111,
     "metadata": {},
     "output_type": "execute_result"
    }
   ],
   "source": [
    "h = '0000000000000000001bea2335a21ec3b6ffad22368b168714a7fbf0a4c68fe4'\n",
    "d['0000000000000000001bea2335a21ec3b6ffad22368b168714a7fbf0a4c68fe4'][4]"
   ]
  },
  {
   "cell_type": "code",
   "execution_count": 133,
   "metadata": {},
   "outputs": [],
   "source": []
  },
  {
   "cell_type": "code",
   "execution_count": null,
   "metadata": {},
   "outputs": [],
   "source": []
  },
  {
   "cell_type": "code",
   "execution_count": 134,
   "metadata": {},
   "outputs": [
    {
     "name": "stdout",
     "output_type": "stream",
     "text": [
      "[1, 5000000000]\n",
      "[1, 5000000000]\n",
      "[1, 5000000000]\n",
      "[1, 5000000000]\n",
      "[1, 5000000000]\n",
      "[1, 5000000000]\n",
      "[1, 5000000000]\n",
      "[1, 5000000000]\n",
      "[1, 5000000000]\n",
      "[1, 5000000000]\n",
      "[1, 5000000000]\n"
     ]
    }
   ],
   "source": [
    "for n, blkhash in enumerate(reversed(chain)):\n",
    "    if n > 10:\n",
    "        break\n",
    "    print(getblockinfo(d[blkhash]))"
   ]
  },
  {
   "cell_type": "code",
   "execution_count": 132,
   "metadata": {},
   "outputs": [
    {
     "ename": "TypeError",
     "evalue": "total_out() missing 1 required positional argument: 'self'",
     "output_type": "error",
     "traceback": [
      "\u001b[0;31m---------------------------------------------------------------------------\u001b[0m",
      "\u001b[0;31mTypeError\u001b[0m                                 Traceback (most recent call last)",
      "\u001b[0;32m<ipython-input-132-2c75307c79b4>\u001b[0m in \u001b[0;36m<module>\u001b[0;34m()\u001b[0m\n\u001b[0;32m----> 1\u001b[0;31m \u001b[0mpycoin\u001b[0m\u001b[0;34m.\u001b[0m\u001b[0mblock\u001b[0m\u001b[0;34m.\u001b[0m\u001b[0mTx\u001b[0m\u001b[0;34m.\u001b[0m\u001b[0mtotal_out\u001b[0m\u001b[0;34m(\u001b[0m\u001b[0;34m)\u001b[0m\u001b[0;34m\u001b[0m\u001b[0m\n\u001b[0m",
      "\u001b[0;31mTypeError\u001b[0m: total_out() missing 1 required positional argument: 'self'"
     ]
    }
   ],
   "source": [
    "pycoin.block.Tx.total_out()"
   ]
  },
  {
   "cell_type": "code",
   "execution_count": 144,
   "metadata": {},
   "outputs": [],
   "source": []
  },
  {
   "cell_type": "code",
   "execution_count": 143,
   "metadata": {},
   "outputs": [],
   "source": []
  },
  {
   "cell_type": "code",
   "execution_count": 145,
   "metadata": {},
   "outputs": [],
   "source": []
  },
  {
   "cell_type": "code",
   "execution_count": null,
   "metadata": {},
   "outputs": [],
   "source": []
  },
  {
   "cell_type": "code",
   "execution_count": null,
   "metadata": {},
   "outputs": [],
   "source": []
  }
 ],
 "metadata": {
  "kernelspec": {
   "display_name": "Python 3",
   "language": "python",
   "name": "python3"
  },
  "language_info": {
   "codemirror_mode": {
    "name": "ipython",
    "version": 3
   },
   "file_extension": ".py",
   "mimetype": "text/x-python",
   "name": "python",
   "nbconvert_exporter": "python",
   "pygments_lexer": "ipython3",
   "version": "3.6.3"
  }
 },
 "nbformat": 4,
 "nbformat_minor": 2
}
